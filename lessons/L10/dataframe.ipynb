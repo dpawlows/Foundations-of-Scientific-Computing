{
 "cells": [
  {
   "cell_type": "markdown",
   "metadata": {},
   "source": [
    "Processing Data with Data Frames\n",
    "================================\n",
    "\n",
    "Now that we have the basics of using data frames out of the way, let's dig a little deeper into how to use them to do some basic operations and analysis.\n",
    "We'll use the same data file we finished up with last time: [USC00200228.csv](USC00200228.csv) which contains rain, snowfall, snow depth, minimum, maximum, and observation temperature data each day for January - March 2020 in Ann Arbor, MI. \n",
    "\n",
    "So, let's read that data again and populate our data frame."
   ]
  },
  {
   "cell_type": "code",
   "execution_count": 1,
   "metadata": {},
   "outputs": [
    {
     "name": "stdout",
     "output_type": "stream",
     "text": [
      "       STATION                 NAME        DATE  PRCP  SNOW  SNWD  TMAX  TMIN  \\\n",
      "0  USC00200228  ANN ARBOR SE, MI US  2020-01-01  0.05   0.8   2.0    30    24   \n",
      "1  USC00200228  ANN ARBOR SE, MI US  2020-01-02  0.00   0.0   1.0    37    23   \n",
      "2  USC00200228  ANN ARBOR SE, MI US  2020-01-03  0.00   0.0   0.0    47    30   \n",
      "3  USC00200228  ANN ARBOR SE, MI US  2020-01-04  0.00   0.0   0.0    43    33   \n",
      "4  USC00200228  ANN ARBOR SE, MI US  2020-01-05  0.02   0.2   0.0    35    29   \n",
      "5  USC00200228  ANN ARBOR SE, MI US  2020-01-06  0.04   0.6   0.0    39    29   \n",
      "6  USC00200228  ANN ARBOR SE, MI US  2020-01-07  0.00   0.0   0.0    45    25   \n",
      "7  USC00200228  ANN ARBOR SE, MI US  2020-01-08  0.02   0.4   0.0    43    23   \n",
      "8  USC00200228  ANN ARBOR SE, MI US  2020-01-09  0.00   0.1   0.0    25    12   \n",
      "\n",
      "   TOBS  \n",
      "0    24  \n",
      "1    30  \n",
      "2    40  \n",
      "3    33  \n",
      "4    29  \n",
      "5    31  \n",
      "6    25  \n",
      "7    23  \n",
      "8    19  \n"
     ]
    }
   ],
   "source": [
    "import pandas as pd\n",
    "import numpy as np\n",
    "\n",
    "file = \"USC00200228.csv\"\n",
    "data = pd.read_csv(file)\n",
    "print(data.head(9))"
   ]
  },
  {
   "cell_type": "markdown",
   "metadata": {},
   "source": [
    "Note that by passing the 9 as an argument to`head()`, the first 9 columns were returned.\n",
    "\n",
    "Basic Stats\n",
    "-----------\n",
    "\n",
    "Pandas gives us an all quick tool to get some basic information about the dataset, `describe()`:"
   ]
  },
  {
   "cell_type": "code",
   "execution_count": 2,
   "metadata": {},
   "outputs": [
    {
     "data": {
      "text/html": [
       "<div>\n",
       "<style scoped>\n",
       "    .dataframe tbody tr th:only-of-type {\n",
       "        vertical-align: middle;\n",
       "    }\n",
       "\n",
       "    .dataframe tbody tr th {\n",
       "        vertical-align: top;\n",
       "    }\n",
       "\n",
       "    .dataframe thead th {\n",
       "        text-align: right;\n",
       "    }\n",
       "</style>\n",
       "<table border=\"1\" class=\"dataframe\">\n",
       "  <thead>\n",
       "    <tr style=\"text-align: right;\">\n",
       "      <th></th>\n",
       "      <th>PRCP</th>\n",
       "      <th>SNOW</th>\n",
       "      <th>SNWD</th>\n",
       "      <th>TMAX</th>\n",
       "      <th>TMIN</th>\n",
       "      <th>TOBS</th>\n",
       "    </tr>\n",
       "  </thead>\n",
       "  <tbody>\n",
       "    <tr>\n",
       "      <th>count</th>\n",
       "      <td>90.000000</td>\n",
       "      <td>90.000000</td>\n",
       "      <td>90.000000</td>\n",
       "      <td>90.000000</td>\n",
       "      <td>90.000000</td>\n",
       "      <td>90.000000</td>\n",
       "    </tr>\n",
       "    <tr>\n",
       "      <th>mean</th>\n",
       "      <td>0.114333</td>\n",
       "      <td>0.358889</td>\n",
       "      <td>1.188889</td>\n",
       "      <td>40.877778</td>\n",
       "      <td>23.633333</td>\n",
       "      <td>28.633333</td>\n",
       "    </tr>\n",
       "    <tr>\n",
       "      <th>std</th>\n",
       "      <td>0.279084</td>\n",
       "      <td>0.893534</td>\n",
       "      <td>1.606828</td>\n",
       "      <td>9.840101</td>\n",
       "      <td>8.423416</td>\n",
       "      <td>9.985889</td>\n",
       "    </tr>\n",
       "    <tr>\n",
       "      <th>min</th>\n",
       "      <td>0.000000</td>\n",
       "      <td>0.000000</td>\n",
       "      <td>0.000000</td>\n",
       "      <td>21.000000</td>\n",
       "      <td>1.000000</td>\n",
       "      <td>1.000000</td>\n",
       "    </tr>\n",
       "    <tr>\n",
       "      <th>25%</th>\n",
       "      <td>0.000000</td>\n",
       "      <td>0.000000</td>\n",
       "      <td>0.000000</td>\n",
       "      <td>34.000000</td>\n",
       "      <td>18.250000</td>\n",
       "      <td>22.000000</td>\n",
       "    </tr>\n",
       "    <tr>\n",
       "      <th>50%</th>\n",
       "      <td>0.000000</td>\n",
       "      <td>0.000000</td>\n",
       "      <td>0.000000</td>\n",
       "      <td>38.500000</td>\n",
       "      <td>23.000000</td>\n",
       "      <td>29.000000</td>\n",
       "    </tr>\n",
       "    <tr>\n",
       "      <th>75%</th>\n",
       "      <td>0.085000</td>\n",
       "      <td>0.200000</td>\n",
       "      <td>2.000000</td>\n",
       "      <td>48.000000</td>\n",
       "      <td>29.000000</td>\n",
       "      <td>33.000000</td>\n",
       "    </tr>\n",
       "    <tr>\n",
       "      <th>max</th>\n",
       "      <td>1.540000</td>\n",
       "      <td>5.700000</td>\n",
       "      <td>6.000000</td>\n",
       "      <td>62.000000</td>\n",
       "      <td>42.000000</td>\n",
       "      <td>61.000000</td>\n",
       "    </tr>\n",
       "  </tbody>\n",
       "</table>\n",
       "</div>"
      ],
      "text/plain": [
       "            PRCP       SNOW       SNWD       TMAX       TMIN       TOBS\n",
       "count  90.000000  90.000000  90.000000  90.000000  90.000000  90.000000\n",
       "mean    0.114333   0.358889   1.188889  40.877778  23.633333  28.633333\n",
       "std     0.279084   0.893534   1.606828   9.840101   8.423416   9.985889\n",
       "min     0.000000   0.000000   0.000000  21.000000   1.000000   1.000000\n",
       "25%     0.000000   0.000000   0.000000  34.000000  18.250000  22.000000\n",
       "50%     0.000000   0.000000   0.000000  38.500000  23.000000  29.000000\n",
       "75%     0.085000   0.200000   2.000000  48.000000  29.000000  33.000000\n",
       "max     1.540000   5.700000   6.000000  62.000000  42.000000  61.000000"
      ]
     },
     "execution_count": 2,
     "metadata": {},
     "output_type": "execute_result"
    }
   ],
   "source": [
    "data.describe()"
   ]
  },
  {
   "cell_type": "markdown",
   "metadata": {},
   "source": [
    "which returns some basic statistical information for all columns that contain numeric data. You can control the output of `describe()` to only gather a subset of this information or change the percentile values to something else. \n",
    "See the [documentation](https://pandas.pydata.org/docs/reference/api/pandas.DataFrame.describe.html#pandas.DataFrame.describe) for more details. \n",
    "\n",
    "While `describe()` is uesful to get a quick look at your data, typically, we may want to store the results of one of these statistical operations in a variable for use later on. In that case, it is simple to use the proper pandas statistical tool:"
   ]
  },
  {
   "cell_type": "code",
   "execution_count": 3,
   "metadata": {},
   "outputs": [
    {
     "name": "stdout",
     "output_type": "stream",
     "text": [
      "STATION            USC00200228\n",
      "NAME       ANN ARBOR SE, MI US\n",
      "DATE                2020-03-30\n",
      "PRCP                      1.54\n",
      "SNOW                       5.7\n",
      "SNWD                         6\n",
      "TMAX                        62\n",
      "TMIN                        42\n",
      "TOBS                        61\n",
      "dtype: object\n"
     ]
    }
   ],
   "source": [
    "datamax = data.max()\n",
    "print(datamax)"
   ]
  },
  {
   "cell_type": "markdown",
   "metadata": {},
   "source": [
    "The result of this type of operation (`max()`, `min()`, `mean()`, `std()`, `count()` all behave in a similar same way) is a pandas `Series`:"
   ]
  },
  {
   "cell_type": "code",
   "execution_count": 4,
   "metadata": {},
   "outputs": [
    {
     "data": {
      "text/plain": [
       "pandas.core.series.Series"
      ]
     },
     "execution_count": 4,
     "metadata": {},
     "output_type": "execute_result"
    }
   ],
   "source": [
    "type(datamax)"
   ]
  },
  {
   "cell_type": "markdown",
   "metadata": {},
   "source": [
    "which means that we can quickly extract the maximum value for snowfall and save it to a variable:"
   ]
  },
  {
   "cell_type": "code",
   "execution_count": 5,
   "metadata": {},
   "outputs": [
    {
     "name": "stdout",
     "output_type": "stream",
     "text": [
      "5.7\n"
     ]
    }
   ],
   "source": [
    "maxsnow = datamax['SNOW']\n",
    "print(maxsnow)"
   ]
  },
  {
   "cell_type": "markdown",
   "metadata": {},
   "source": [
    "Again, a similar procedure would be used to get specific values of the other basic statistical operations.\n",
    "\n",
    "Sorting and querying\n",
    "--------------------\n",
    "\n",
    "Another tool that is often needed when working with a dataset is the ability to sort the data. There are two ways do this, we can sort by the index (the row or column names):"
   ]
  },
  {
   "cell_type": "code",
   "execution_count": 6,
   "metadata": {},
   "outputs": [
    {
     "data": {
      "text/html": [
       "<div>\n",
       "<style scoped>\n",
       "    .dataframe tbody tr th:only-of-type {\n",
       "        vertical-align: middle;\n",
       "    }\n",
       "\n",
       "    .dataframe tbody tr th {\n",
       "        vertical-align: top;\n",
       "    }\n",
       "\n",
       "    .dataframe thead th {\n",
       "        text-align: right;\n",
       "    }\n",
       "</style>\n",
       "<table border=\"1\" class=\"dataframe\">\n",
       "  <thead>\n",
       "    <tr style=\"text-align: right;\">\n",
       "      <th></th>\n",
       "      <th>DATE</th>\n",
       "      <th>NAME</th>\n",
       "      <th>PRCP</th>\n",
       "      <th>SNOW</th>\n",
       "      <th>SNWD</th>\n",
       "      <th>STATION</th>\n",
       "      <th>TMAX</th>\n",
       "      <th>TMIN</th>\n",
       "      <th>TOBS</th>\n",
       "    </tr>\n",
       "  </thead>\n",
       "  <tbody>\n",
       "    <tr>\n",
       "      <th>0</th>\n",
       "      <td>2020-01-01</td>\n",
       "      <td>ANN ARBOR SE, MI US</td>\n",
       "      <td>0.05</td>\n",
       "      <td>0.8</td>\n",
       "      <td>2.0</td>\n",
       "      <td>USC00200228</td>\n",
       "      <td>30</td>\n",
       "      <td>24</td>\n",
       "      <td>24</td>\n",
       "    </tr>\n",
       "    <tr>\n",
       "      <th>1</th>\n",
       "      <td>2020-01-02</td>\n",
       "      <td>ANN ARBOR SE, MI US</td>\n",
       "      <td>0.00</td>\n",
       "      <td>0.0</td>\n",
       "      <td>1.0</td>\n",
       "      <td>USC00200228</td>\n",
       "      <td>37</td>\n",
       "      <td>23</td>\n",
       "      <td>30</td>\n",
       "    </tr>\n",
       "    <tr>\n",
       "      <th>2</th>\n",
       "      <td>2020-01-03</td>\n",
       "      <td>ANN ARBOR SE, MI US</td>\n",
       "      <td>0.00</td>\n",
       "      <td>0.0</td>\n",
       "      <td>0.0</td>\n",
       "      <td>USC00200228</td>\n",
       "      <td>47</td>\n",
       "      <td>30</td>\n",
       "      <td>40</td>\n",
       "    </tr>\n",
       "    <tr>\n",
       "      <th>3</th>\n",
       "      <td>2020-01-04</td>\n",
       "      <td>ANN ARBOR SE, MI US</td>\n",
       "      <td>0.00</td>\n",
       "      <td>0.0</td>\n",
       "      <td>0.0</td>\n",
       "      <td>USC00200228</td>\n",
       "      <td>43</td>\n",
       "      <td>33</td>\n",
       "      <td>33</td>\n",
       "    </tr>\n",
       "    <tr>\n",
       "      <th>4</th>\n",
       "      <td>2020-01-05</td>\n",
       "      <td>ANN ARBOR SE, MI US</td>\n",
       "      <td>0.02</td>\n",
       "      <td>0.2</td>\n",
       "      <td>0.0</td>\n",
       "      <td>USC00200228</td>\n",
       "      <td>35</td>\n",
       "      <td>29</td>\n",
       "      <td>29</td>\n",
       "    </tr>\n",
       "    <tr>\n",
       "      <th>...</th>\n",
       "      <td>...</td>\n",
       "      <td>...</td>\n",
       "      <td>...</td>\n",
       "      <td>...</td>\n",
       "      <td>...</td>\n",
       "      <td>...</td>\n",
       "      <td>...</td>\n",
       "      <td>...</td>\n",
       "      <td>...</td>\n",
       "    </tr>\n",
       "    <tr>\n",
       "      <th>85</th>\n",
       "      <td>2020-03-26</td>\n",
       "      <td>ANN ARBOR SE, MI US</td>\n",
       "      <td>0.00</td>\n",
       "      <td>0.0</td>\n",
       "      <td>0.0</td>\n",
       "      <td>USC00200228</td>\n",
       "      <td>57</td>\n",
       "      <td>27</td>\n",
       "      <td>44</td>\n",
       "    </tr>\n",
       "    <tr>\n",
       "      <th>86</th>\n",
       "      <td>2020-03-27</td>\n",
       "      <td>ANN ARBOR SE, MI US</td>\n",
       "      <td>0.27</td>\n",
       "      <td>0.0</td>\n",
       "      <td>0.0</td>\n",
       "      <td>USC00200228</td>\n",
       "      <td>58</td>\n",
       "      <td>38</td>\n",
       "      <td>38</td>\n",
       "    </tr>\n",
       "    <tr>\n",
       "      <th>87</th>\n",
       "      <td>2020-03-28</td>\n",
       "      <td>ANN ARBOR SE, MI US</td>\n",
       "      <td>1.54</td>\n",
       "      <td>0.0</td>\n",
       "      <td>0.0</td>\n",
       "      <td>USC00200228</td>\n",
       "      <td>51</td>\n",
       "      <td>36</td>\n",
       "      <td>42</td>\n",
       "    </tr>\n",
       "    <tr>\n",
       "      <th>88</th>\n",
       "      <td>2020-03-29</td>\n",
       "      <td>ANN ARBOR SE, MI US</td>\n",
       "      <td>0.64</td>\n",
       "      <td>0.0</td>\n",
       "      <td>0.0</td>\n",
       "      <td>USC00200228</td>\n",
       "      <td>50</td>\n",
       "      <td>42</td>\n",
       "      <td>50</td>\n",
       "    </tr>\n",
       "    <tr>\n",
       "      <th>89</th>\n",
       "      <td>2020-03-30</td>\n",
       "      <td>ANN ARBOR SE, MI US</td>\n",
       "      <td>0.03</td>\n",
       "      <td>0.0</td>\n",
       "      <td>0.0</td>\n",
       "      <td>USC00200228</td>\n",
       "      <td>62</td>\n",
       "      <td>40</td>\n",
       "      <td>40</td>\n",
       "    </tr>\n",
       "  </tbody>\n",
       "</table>\n",
       "<p>90 rows × 9 columns</p>\n",
       "</div>"
      ],
      "text/plain": [
       "          DATE                 NAME  PRCP  SNOW  SNWD      STATION  TMAX  \\\n",
       "0   2020-01-01  ANN ARBOR SE, MI US  0.05   0.8   2.0  USC00200228    30   \n",
       "1   2020-01-02  ANN ARBOR SE, MI US  0.00   0.0   1.0  USC00200228    37   \n",
       "2   2020-01-03  ANN ARBOR SE, MI US  0.00   0.0   0.0  USC00200228    47   \n",
       "3   2020-01-04  ANN ARBOR SE, MI US  0.00   0.0   0.0  USC00200228    43   \n",
       "4   2020-01-05  ANN ARBOR SE, MI US  0.02   0.2   0.0  USC00200228    35   \n",
       "..         ...                  ...   ...   ...   ...          ...   ...   \n",
       "85  2020-03-26  ANN ARBOR SE, MI US  0.00   0.0   0.0  USC00200228    57   \n",
       "86  2020-03-27  ANN ARBOR SE, MI US  0.27   0.0   0.0  USC00200228    58   \n",
       "87  2020-03-28  ANN ARBOR SE, MI US  1.54   0.0   0.0  USC00200228    51   \n",
       "88  2020-03-29  ANN ARBOR SE, MI US  0.64   0.0   0.0  USC00200228    50   \n",
       "89  2020-03-30  ANN ARBOR SE, MI US  0.03   0.0   0.0  USC00200228    62   \n",
       "\n",
       "    TMIN  TOBS  \n",
       "0     24    24  \n",
       "1     23    30  \n",
       "2     30    40  \n",
       "3     33    33  \n",
       "4     29    29  \n",
       "..   ...   ...  \n",
       "85    27    44  \n",
       "86    38    38  \n",
       "87    36    42  \n",
       "88    42    50  \n",
       "89    40    40  \n",
       "\n",
       "[90 rows x 9 columns]"
      ]
     },
     "execution_count": 6,
     "metadata": {},
     "output_type": "execute_result"
    }
   ],
   "source": [
    "data.sort_index(axis=1)"
   ]
  },
  {
   "cell_type": "markdown",
   "metadata": {},
   "source": [
    "Here I'm sorting by axis 1, or the columns. Axis 0 corresponds to the rows and if I sort those by index, the data frame would look identical to what it would be if I simply printed it, since the index values are just a counter (0, 1, 2, 3, ...).\n",
    "\n",
    "Alternatively, I can sort by value:"
   ]
  },
  {
   "cell_type": "code",
   "execution_count": 7,
   "metadata": {},
   "outputs": [
    {
     "data": {
      "text/html": [
       "<div>\n",
       "<style scoped>\n",
       "    .dataframe tbody tr th:only-of-type {\n",
       "        vertical-align: middle;\n",
       "    }\n",
       "\n",
       "    .dataframe tbody tr th {\n",
       "        vertical-align: top;\n",
       "    }\n",
       "\n",
       "    .dataframe thead th {\n",
       "        text-align: right;\n",
       "    }\n",
       "</style>\n",
       "<table border=\"1\" class=\"dataframe\">\n",
       "  <thead>\n",
       "    <tr style=\"text-align: right;\">\n",
       "      <th></th>\n",
       "      <th>STATION</th>\n",
       "      <th>NAME</th>\n",
       "      <th>DATE</th>\n",
       "      <th>PRCP</th>\n",
       "      <th>SNOW</th>\n",
       "      <th>SNWD</th>\n",
       "      <th>TMAX</th>\n",
       "      <th>TMIN</th>\n",
       "      <th>TOBS</th>\n",
       "    </tr>\n",
       "  </thead>\n",
       "  <tbody>\n",
       "    <tr>\n",
       "      <th>19</th>\n",
       "      <td>USC00200228</td>\n",
       "      <td>ANN ARBOR SE, MI US</td>\n",
       "      <td>2020-01-20</td>\n",
       "      <td>0.02</td>\n",
       "      <td>0.8</td>\n",
       "      <td>5.0</td>\n",
       "      <td>21</td>\n",
       "      <td>8</td>\n",
       "      <td>11</td>\n",
       "    </tr>\n",
       "    <tr>\n",
       "      <th>45</th>\n",
       "      <td>USC00200228</td>\n",
       "      <td>ANN ARBOR SE, MI US</td>\n",
       "      <td>2020-02-15</td>\n",
       "      <td>0.00</td>\n",
       "      <td>0.0</td>\n",
       "      <td>3.0</td>\n",
       "      <td>22</td>\n",
       "      <td>1</td>\n",
       "      <td>7</td>\n",
       "    </tr>\n",
       "    <tr>\n",
       "      <th>51</th>\n",
       "      <td>USC00200228</td>\n",
       "      <td>ANN ARBOR SE, MI US</td>\n",
       "      <td>2020-02-21</td>\n",
       "      <td>0.00</td>\n",
       "      <td>0.0</td>\n",
       "      <td>0.0</td>\n",
       "      <td>25</td>\n",
       "      <td>11</td>\n",
       "      <td>12</td>\n",
       "    </tr>\n",
       "    <tr>\n",
       "      <th>8</th>\n",
       "      <td>USC00200228</td>\n",
       "      <td>ANN ARBOR SE, MI US</td>\n",
       "      <td>2020-01-09</td>\n",
       "      <td>0.00</td>\n",
       "      <td>0.1</td>\n",
       "      <td>0.0</td>\n",
       "      <td>25</td>\n",
       "      <td>12</td>\n",
       "      <td>19</td>\n",
       "    </tr>\n",
       "    <tr>\n",
       "      <th>20</th>\n",
       "      <td>USC00200228</td>\n",
       "      <td>ANN ARBOR SE, MI US</td>\n",
       "      <td>2020-01-21</td>\n",
       "      <td>0.00</td>\n",
       "      <td>0.0</td>\n",
       "      <td>4.0</td>\n",
       "      <td>26</td>\n",
       "      <td>11</td>\n",
       "      <td>19</td>\n",
       "    </tr>\n",
       "    <tr>\n",
       "      <th>...</th>\n",
       "      <td>...</td>\n",
       "      <td>...</td>\n",
       "      <td>...</td>\n",
       "      <td>...</td>\n",
       "      <td>...</td>\n",
       "      <td>...</td>\n",
       "      <td>...</td>\n",
       "      <td>...</td>\n",
       "      <td>...</td>\n",
       "    </tr>\n",
       "    <tr>\n",
       "      <th>69</th>\n",
       "      <td>USC00200228</td>\n",
       "      <td>ANN ARBOR SE, MI US</td>\n",
       "      <td>2020-03-10</td>\n",
       "      <td>0.22</td>\n",
       "      <td>0.0</td>\n",
       "      <td>0.0</td>\n",
       "      <td>61</td>\n",
       "      <td>41</td>\n",
       "      <td>51</td>\n",
       "    </tr>\n",
       "    <tr>\n",
       "      <th>68</th>\n",
       "      <td>USC00200228</td>\n",
       "      <td>ANN ARBOR SE, MI US</td>\n",
       "      <td>2020-03-09</td>\n",
       "      <td>0.00</td>\n",
       "      <td>0.0</td>\n",
       "      <td>0.0</td>\n",
       "      <td>61</td>\n",
       "      <td>33</td>\n",
       "      <td>41</td>\n",
       "    </tr>\n",
       "    <tr>\n",
       "      <th>79</th>\n",
       "      <td>USC00200228</td>\n",
       "      <td>ANN ARBOR SE, MI US</td>\n",
       "      <td>2020-03-20</td>\n",
       "      <td>0.36</td>\n",
       "      <td>0.0</td>\n",
       "      <td>0.0</td>\n",
       "      <td>62</td>\n",
       "      <td>39</td>\n",
       "      <td>61</td>\n",
       "    </tr>\n",
       "    <tr>\n",
       "      <th>80</th>\n",
       "      <td>USC00200228</td>\n",
       "      <td>ANN ARBOR SE, MI US</td>\n",
       "      <td>2020-03-21</td>\n",
       "      <td>0.00</td>\n",
       "      <td>0.0</td>\n",
       "      <td>0.0</td>\n",
       "      <td>62</td>\n",
       "      <td>25</td>\n",
       "      <td>25</td>\n",
       "    </tr>\n",
       "    <tr>\n",
       "      <th>89</th>\n",
       "      <td>USC00200228</td>\n",
       "      <td>ANN ARBOR SE, MI US</td>\n",
       "      <td>2020-03-30</td>\n",
       "      <td>0.03</td>\n",
       "      <td>0.0</td>\n",
       "      <td>0.0</td>\n",
       "      <td>62</td>\n",
       "      <td>40</td>\n",
       "      <td>40</td>\n",
       "    </tr>\n",
       "  </tbody>\n",
       "</table>\n",
       "<p>90 rows × 9 columns</p>\n",
       "</div>"
      ],
      "text/plain": [
       "        STATION                 NAME        DATE  PRCP  SNOW  SNWD  TMAX  \\\n",
       "19  USC00200228  ANN ARBOR SE, MI US  2020-01-20  0.02   0.8   5.0    21   \n",
       "45  USC00200228  ANN ARBOR SE, MI US  2020-02-15  0.00   0.0   3.0    22   \n",
       "51  USC00200228  ANN ARBOR SE, MI US  2020-02-21  0.00   0.0   0.0    25   \n",
       "8   USC00200228  ANN ARBOR SE, MI US  2020-01-09  0.00   0.1   0.0    25   \n",
       "20  USC00200228  ANN ARBOR SE, MI US  2020-01-21  0.00   0.0   4.0    26   \n",
       "..          ...                  ...         ...   ...   ...   ...   ...   \n",
       "69  USC00200228  ANN ARBOR SE, MI US  2020-03-10  0.22   0.0   0.0    61   \n",
       "68  USC00200228  ANN ARBOR SE, MI US  2020-03-09  0.00   0.0   0.0    61   \n",
       "79  USC00200228  ANN ARBOR SE, MI US  2020-03-20  0.36   0.0   0.0    62   \n",
       "80  USC00200228  ANN ARBOR SE, MI US  2020-03-21  0.00   0.0   0.0    62   \n",
       "89  USC00200228  ANN ARBOR SE, MI US  2020-03-30  0.03   0.0   0.0    62   \n",
       "\n",
       "    TMIN  TOBS  \n",
       "19     8    11  \n",
       "45     1     7  \n",
       "51    11    12  \n",
       "8     12    19  \n",
       "20    11    19  \n",
       "..   ...   ...  \n",
       "69    41    51  \n",
       "68    33    41  \n",
       "79    39    61  \n",
       "80    25    25  \n",
       "89    40    40  \n",
       "\n",
       "[90 rows x 9 columns]"
      ]
     },
     "execution_count": 7,
     "metadata": {},
     "output_type": "execute_result"
    }
   ],
   "source": [
    "data.sort_values(by=\"TMAX\")"
   ]
  },
  {
   "cell_type": "markdown",
   "metadata": {},
   "source": [
    "In this case, the `by` keyword is required. Which column is used to perform the sort. Also, the default is ascending sort order, but we can do descending instead:"
   ]
  },
  {
   "cell_type": "code",
   "execution_count": 8,
   "metadata": {},
   "outputs": [
    {
     "data": {
      "text/html": [
       "<div>\n",
       "<style scoped>\n",
       "    .dataframe tbody tr th:only-of-type {\n",
       "        vertical-align: middle;\n",
       "    }\n",
       "\n",
       "    .dataframe tbody tr th {\n",
       "        vertical-align: top;\n",
       "    }\n",
       "\n",
       "    .dataframe thead th {\n",
       "        text-align: right;\n",
       "    }\n",
       "</style>\n",
       "<table border=\"1\" class=\"dataframe\">\n",
       "  <thead>\n",
       "    <tr style=\"text-align: right;\">\n",
       "      <th></th>\n",
       "      <th>STATION</th>\n",
       "      <th>NAME</th>\n",
       "      <th>DATE</th>\n",
       "      <th>PRCP</th>\n",
       "      <th>SNOW</th>\n",
       "      <th>SNWD</th>\n",
       "      <th>TMAX</th>\n",
       "      <th>TMIN</th>\n",
       "      <th>TOBS</th>\n",
       "    </tr>\n",
       "  </thead>\n",
       "  <tbody>\n",
       "    <tr>\n",
       "      <th>17</th>\n",
       "      <td>USC00200228</td>\n",
       "      <td>ANN ARBOR SE, MI US</td>\n",
       "      <td>2020-01-18</td>\n",
       "      <td>0.71</td>\n",
       "      <td>5.7</td>\n",
       "      <td>5.0</td>\n",
       "      <td>30</td>\n",
       "      <td>15</td>\n",
       "      <td>30</td>\n",
       "    </tr>\n",
       "    <tr>\n",
       "      <th>57</th>\n",
       "      <td>USC00200228</td>\n",
       "      <td>ANN ARBOR SE, MI US</td>\n",
       "      <td>2020-02-27</td>\n",
       "      <td>0.42</td>\n",
       "      <td>4.6</td>\n",
       "      <td>6.0</td>\n",
       "      <td>31</td>\n",
       "      <td>18</td>\n",
       "      <td>21</td>\n",
       "    </tr>\n",
       "    <tr>\n",
       "      <th>56</th>\n",
       "      <td>USC00200228</td>\n",
       "      <td>ANN ARBOR SE, MI US</td>\n",
       "      <td>2020-02-26</td>\n",
       "      <td>0.21</td>\n",
       "      <td>2.3</td>\n",
       "      <td>2.0</td>\n",
       "      <td>40</td>\n",
       "      <td>29</td>\n",
       "      <td>29</td>\n",
       "    </tr>\n",
       "    <tr>\n",
       "      <th>82</th>\n",
       "      <td>USC00200228</td>\n",
       "      <td>ANN ARBOR SE, MI US</td>\n",
       "      <td>2020-03-23</td>\n",
       "      <td>0.20</td>\n",
       "      <td>2.1</td>\n",
       "      <td>2.0</td>\n",
       "      <td>40</td>\n",
       "      <td>18</td>\n",
       "      <td>32</td>\n",
       "    </tr>\n",
       "    <tr>\n",
       "      <th>36</th>\n",
       "      <td>USC00200228</td>\n",
       "      <td>ANN ARBOR SE, MI US</td>\n",
       "      <td>2020-02-06</td>\n",
       "      <td>0.15</td>\n",
       "      <td>1.6</td>\n",
       "      <td>2.0</td>\n",
       "      <td>31</td>\n",
       "      <td>21</td>\n",
       "      <td>23</td>\n",
       "    </tr>\n",
       "    <tr>\n",
       "      <th>...</th>\n",
       "      <td>...</td>\n",
       "      <td>...</td>\n",
       "      <td>...</td>\n",
       "      <td>...</td>\n",
       "      <td>...</td>\n",
       "      <td>...</td>\n",
       "      <td>...</td>\n",
       "      <td>...</td>\n",
       "      <td>...</td>\n",
       "    </tr>\n",
       "    <tr>\n",
       "      <th>49</th>\n",
       "      <td>USC00200228</td>\n",
       "      <td>ANN ARBOR SE, MI US</td>\n",
       "      <td>2020-02-19</td>\n",
       "      <td>0.00</td>\n",
       "      <td>0.0</td>\n",
       "      <td>1.0</td>\n",
       "      <td>40</td>\n",
       "      <td>20</td>\n",
       "      <td>20</td>\n",
       "    </tr>\n",
       "    <tr>\n",
       "      <th>50</th>\n",
       "      <td>USC00200228</td>\n",
       "      <td>ANN ARBOR SE, MI US</td>\n",
       "      <td>2020-02-20</td>\n",
       "      <td>0.00</td>\n",
       "      <td>0.0</td>\n",
       "      <td>0.0</td>\n",
       "      <td>31</td>\n",
       "      <td>14</td>\n",
       "      <td>14</td>\n",
       "    </tr>\n",
       "    <tr>\n",
       "      <th>51</th>\n",
       "      <td>USC00200228</td>\n",
       "      <td>ANN ARBOR SE, MI US</td>\n",
       "      <td>2020-02-21</td>\n",
       "      <td>0.00</td>\n",
       "      <td>0.0</td>\n",
       "      <td>0.0</td>\n",
       "      <td>25</td>\n",
       "      <td>11</td>\n",
       "      <td>12</td>\n",
       "    </tr>\n",
       "    <tr>\n",
       "      <th>52</th>\n",
       "      <td>USC00200228</td>\n",
       "      <td>ANN ARBOR SE, MI US</td>\n",
       "      <td>2020-02-22</td>\n",
       "      <td>0.00</td>\n",
       "      <td>0.0</td>\n",
       "      <td>0.0</td>\n",
       "      <td>38</td>\n",
       "      <td>12</td>\n",
       "      <td>22</td>\n",
       "    </tr>\n",
       "    <tr>\n",
       "      <th>89</th>\n",
       "      <td>USC00200228</td>\n",
       "      <td>ANN ARBOR SE, MI US</td>\n",
       "      <td>2020-03-30</td>\n",
       "      <td>0.03</td>\n",
       "      <td>0.0</td>\n",
       "      <td>0.0</td>\n",
       "      <td>62</td>\n",
       "      <td>40</td>\n",
       "      <td>40</td>\n",
       "    </tr>\n",
       "  </tbody>\n",
       "</table>\n",
       "<p>90 rows × 9 columns</p>\n",
       "</div>"
      ],
      "text/plain": [
       "        STATION                 NAME        DATE  PRCP  SNOW  SNWD  TMAX  \\\n",
       "17  USC00200228  ANN ARBOR SE, MI US  2020-01-18  0.71   5.7   5.0    30   \n",
       "57  USC00200228  ANN ARBOR SE, MI US  2020-02-27  0.42   4.6   6.0    31   \n",
       "56  USC00200228  ANN ARBOR SE, MI US  2020-02-26  0.21   2.3   2.0    40   \n",
       "82  USC00200228  ANN ARBOR SE, MI US  2020-03-23  0.20   2.1   2.0    40   \n",
       "36  USC00200228  ANN ARBOR SE, MI US  2020-02-06  0.15   1.6   2.0    31   \n",
       "..          ...                  ...         ...   ...   ...   ...   ...   \n",
       "49  USC00200228  ANN ARBOR SE, MI US  2020-02-19  0.00   0.0   1.0    40   \n",
       "50  USC00200228  ANN ARBOR SE, MI US  2020-02-20  0.00   0.0   0.0    31   \n",
       "51  USC00200228  ANN ARBOR SE, MI US  2020-02-21  0.00   0.0   0.0    25   \n",
       "52  USC00200228  ANN ARBOR SE, MI US  2020-02-22  0.00   0.0   0.0    38   \n",
       "89  USC00200228  ANN ARBOR SE, MI US  2020-03-30  0.03   0.0   0.0    62   \n",
       "\n",
       "    TMIN  TOBS  \n",
       "17    15    30  \n",
       "57    18    21  \n",
       "56    29    29  \n",
       "82    18    32  \n",
       "36    21    23  \n",
       "..   ...   ...  \n",
       "49    20    20  \n",
       "50    14    14  \n",
       "51    11    12  \n",
       "52    12    22  \n",
       "89    40    40  \n",
       "\n",
       "[90 rows x 9 columns]"
      ]
     },
     "execution_count": 8,
     "metadata": {},
     "output_type": "execute_result"
    }
   ],
   "source": [
    "data.sort_values(by=\"SNOW\",ascending=False)"
   ]
  },
  {
   "cell_type": "markdown",
   "metadata": {},
   "source": [
    "If you couldn't already tell, the result of this operation is still a `DataFrame`:"
   ]
  },
  {
   "cell_type": "code",
   "execution_count": 9,
   "metadata": {},
   "outputs": [
    {
     "data": {
      "text/plain": [
       "pandas.core.frame.DataFrame"
      ]
     },
     "execution_count": 9,
     "metadata": {},
     "output_type": "execute_result"
    }
   ],
   "source": [
    "type(data.sort_values(by=\"SNOW\",ascending=False))"
   ]
  },
  {
   "cell_type": "markdown",
   "metadata": {},
   "source": [
    "For any `DataFrame`, you can select a subset of the data using it's index. \n",
    "If you want a single index, the result is a `Series`."
   ]
  },
  {
   "cell_type": "code",
   "execution_count": 10,
   "metadata": {},
   "outputs": [
    {
     "name": "stdout",
     "output_type": "stream",
     "text": [
      "0     30\n",
      "1     37\n",
      "2     47\n",
      "3     43\n",
      "4     35\n",
      "      ..\n",
      "85    57\n",
      "86    58\n",
      "87    51\n",
      "88    50\n",
      "89    62\n",
      "Name: TMAX, Length: 90, dtype: int64\n",
      "Type:  <class 'pandas.core.series.Series'>\n"
     ]
    }
   ],
   "source": [
    "maxtemp = data['TMAX']\n",
    "print(maxtemp)\n",
    "print(\"Type: \",type(maxtemp))"
   ]
  },
  {
   "cell_type": "markdown",
   "metadata": {},
   "source": [
    "This means that I can combine the sort above to pull just the information that I \n",
    "want. For example,"
   ]
  },
  {
   "cell_type": "code",
   "execution_count": 11,
   "metadata": {},
   "outputs": [
    {
     "name": "stdout",
     "output_type": "stream",
     "text": [
      "89    62\n",
      "80    62\n",
      "79    62\n",
      "69    61\n",
      "68    61\n",
      "      ..\n",
      "20    26\n",
      "51    25\n",
      "8     25\n",
      "45    22\n",
      "19    21\n",
      "Name: TMAX, Length: 90, dtype: int64\n"
     ]
    }
   ],
   "source": [
    "maxtemp_sorted = data.sort_values(by=\"TMAX\",ascending=False)[\"TMAX\"]\n",
    "print(maxtemp_sorted)"
   ]
  },
  {
   "cell_type": "markdown",
   "metadata": {},
   "source": [
    "Remember, the numbers in the left column here are the index values of the series. The temperatures themselves are in the right column. Let's say I also wanted the dates that correspond to those temperatures, still sorted by max temperature. Then I just have to change the column index to date:"
   ]
  },
  {
   "cell_type": "code",
   "execution_count": 12,
   "metadata": {},
   "outputs": [
    {
     "name": "stdout",
     "output_type": "stream",
     "text": [
      "89    2020-03-30\n",
      "80    2020-03-21\n",
      "79    2020-03-20\n",
      "69    2020-03-10\n",
      "68    2020-03-09\n",
      "         ...    \n",
      "20    2020-01-21\n",
      "51    2020-02-21\n",
      "8     2020-01-09\n",
      "45    2020-02-15\n",
      "19    2020-01-20\n",
      "Name: DATE, Length: 90, dtype: object\n"
     ]
    }
   ],
   "source": [
    "sortedDates = data.sort_values(by=\"TMAX\",ascending=False)[\"DATE\"]\n",
    "print(sortedDates)"
   ]
  },
  {
   "cell_type": "markdown",
   "metadata": {},
   "source": [
    "And if I wanted to keep both of these sets of information together in a smaller data frame, I can do that too using the `loc` attribute, which locates the \n",
    "data in just the indices that I specify."
   ]
  },
  {
   "cell_type": "code",
   "execution_count": 13,
   "metadata": {},
   "outputs": [
    {
     "name": "stdout",
     "output_type": "stream",
     "text": [
      "    TMAX        DATE\n",
      "89    62  2020-03-30\n",
      "80    62  2020-03-21\n",
      "79    62  2020-03-20\n",
      "69    61  2020-03-10\n",
      "68    61  2020-03-09\n",
      "..   ...         ...\n",
      "20    26  2020-01-21\n",
      "51    25  2020-02-21\n",
      "8     25  2020-01-09\n",
      "45    22  2020-02-15\n",
      "19    21  2020-01-20\n",
      "\n",
      "[90 rows x 2 columns]\n"
     ]
    }
   ],
   "source": [
    "sortedTemp = data.sort_values(by=\"TMAX\",ascending=False).loc[:,[\"TMAX\",\"DATE\"]]\n",
    "print(sortedTemp)"
   ]
  },
  {
   "cell_type": "markdown",
   "metadata": {},
   "source": [
    "The `loc` attribute works by selecting a subset of our initial data frame, by **value**. I need to specify 2 values when using `loc` (it might look like 3 values, but the second value is itself a list and considered to be a single object), since my data frame has 2 axes. In this example, I pulled all rows using the \":\" and then only 2 of the columns.\n",
    "\n",
    "Note that in that last operation, I combined the effects of multiple methods of the `data` object! This is totally fine and actually to be encouraged. This statement can be read like this: \"take the data DataFrame, sort it by the values in the TMAX column, and only return the resulting TMAX and DATE columns\".\n",
    "\n",
    "Normal python slicing also works on a `DataFrame`. "
   ]
  },
  {
   "cell_type": "code",
   "execution_count": 14,
   "metadata": {},
   "outputs": [
    {
     "data": {
      "text/html": [
       "<div>\n",
       "<style scoped>\n",
       "    .dataframe tbody tr th:only-of-type {\n",
       "        vertical-align: middle;\n",
       "    }\n",
       "\n",
       "    .dataframe tbody tr th {\n",
       "        vertical-align: top;\n",
       "    }\n",
       "\n",
       "    .dataframe thead th {\n",
       "        text-align: right;\n",
       "    }\n",
       "</style>\n",
       "<table border=\"1\" class=\"dataframe\">\n",
       "  <thead>\n",
       "    <tr style=\"text-align: right;\">\n",
       "      <th></th>\n",
       "      <th>TMAX</th>\n",
       "      <th>DATE</th>\n",
       "    </tr>\n",
       "  </thead>\n",
       "  <tbody>\n",
       "    <tr>\n",
       "      <th>89</th>\n",
       "      <td>62</td>\n",
       "      <td>2020-03-30</td>\n",
       "    </tr>\n",
       "  </tbody>\n",
       "</table>\n",
       "</div>"
      ],
      "text/plain": [
       "    TMAX        DATE\n",
       "89    62  2020-03-30"
      ]
     },
     "execution_count": 14,
     "metadata": {},
     "output_type": "execute_result"
    }
   ],
   "source": [
    "sortedTemp[0:1]"
   ]
  },
  {
   "cell_type": "markdown",
   "metadata": {},
   "source": [
    "Gives me the just the maximum temperature in our record and the date of that observation.\n",
    "\n",
    "Try to understand the difference between slicing and using `loc`. Again, `loc` gets the data by \"value\" where as slicing gets the data by position. In this last example, I wanted the very first entry in my sorted data frame, so I used slicing. If I were to use `loc`, I would need to know the index value of that entry, which I now see is 89:"
   ]
  },
  {
   "cell_type": "code",
   "execution_count": 15,
   "metadata": {},
   "outputs": [
    {
     "name": "stdout",
     "output_type": "stream",
     "text": [
      "TMAX            62\n",
      "DATE    2020-03-30\n",
      "Name: 89, dtype: object\n"
     ]
    }
   ],
   "source": [
    "print(sortedTemp.loc[89])"
   ]
  },
  {
   "cell_type": "markdown",
   "metadata": {},
   "source": [
    "Since I want the \"top row\" of my sorted data frame, it makes more sense to use slicing to get that information, since I probably wouldn't know that the max temp observation was the 89th entry in my dataset. All this is to say both slicing and using `loc` to extract values from a data frame are useful. It just depends on what operation I'm doing.\n",
    "\n",
    "Of course, I could have done this entire operation in a single line using \n",
    "both of these tools. In other words, start with the original data frame, sort it by the max temperature data in decending order, only get the TMAX and DATE columns and only return the first row from the result:"
   ]
  },
  {
   "cell_type": "code",
   "execution_count": 16,
   "metadata": {},
   "outputs": [
    {
     "name": "stdout",
     "output_type": "stream",
     "text": [
      "    TMAX        DATE\n",
      "89    62  2020-03-30\n"
     ]
    }
   ],
   "source": [
    "print(data.sort_values(by=\"TMAX\",ascending=False).loc[:,[\"TMAX\",\"DATE\"]][0:1])"
   ]
  },
  {
   "cell_type": "markdown",
   "metadata": {},
   "source": [
    "And no, I don't know why you have to slice using \"[0:1]\" instead of just \"[0]\" if we only want the 1st row. I imagine it has to do with there being a row header in our data frame, but I'm too lazy to look it up right now. Although we can accomplish the same thing (selecting by position) using the `iloc` attribute instead of slicing:"
   ]
  },
  {
   "cell_type": "code",
   "execution_count": 17,
   "metadata": {},
   "outputs": [
    {
     "name": "stdout",
     "output_type": "stream",
     "text": [
      "TMAX            62\n",
      "DATE    2020-03-30\n",
      "Name: 89, dtype: object\n"
     ]
    }
   ],
   "source": [
    "print(data.sort_values(by=\"TMAX\",ascending=False).loc[:,[\"TMAX\",\"DATE\"]].iloc[0])"
   ]
  },
  {
   "cell_type": "markdown",
   "metadata": {},
   "source": [
    "And in that case, I do only use a single integer if I want a single row. Hopefully I've exhausted this topic at this point.\n",
    "\n",
    "There is a lot to be done with pandas data frames beyond what we've covered so far. We will continue down this path in the next lesson so that we can see how to apply logic to our data frames, to mathematic operations, and a few other things. Again, I emphasize the efficiency and ease of use of pandas here. We aren't going to cover anything in our discussions on pandas that couldn't be otherwise accomplished using a Numpy array. However, the Pandas Series and DataFrame datatype make doing the same tasks significantly easier, as long as you understand what is going on with the more complex data type.\n",
    "\n"
   ]
  }
 ],
 "metadata": {
  "kernelspec": {
   "display_name": "Python 3",
   "language": "python",
   "name": "python3"
  },
  "language_info": {
   "codemirror_mode": {
    "name": "ipython",
    "version": 3
   },
   "file_extension": ".py",
   "mimetype": "text/x-python",
   "name": "python",
   "nbconvert_exporter": "python",
   "pygments_lexer": "ipython3",
   "version": "3.7.5"
  }
 },
 "nbformat": 4,
 "nbformat_minor": 4
}
