{
 "cells": [
  {
   "cell_type": "markdown",
   "metadata": {},
   "source": [
    "More pandas basics\n",
    "==================\n",
    "\n",
    "In this lesson, we will build on our ability to use Pandas data frames and start to take a look at some other data analysis tasks.\n",
    "\n",
    "Let's start by reading some data into our python session. The file [marineSTX.csv](marineSTX.csv) contains ocean and wind observations in the US Virgin Islands during July 2018 in CSV format.\n",
    "We will read it just like last time using the `read_csv()` function built into Pandas."
   ]
  },
  {
   "cell_type": "code",
   "execution_count": 1,
   "metadata": {},
   "outputs": [],
   "source": [
    "import numpy as np\n",
    "import pandas as pd\n",
    "\n",
    "data = pd.read_csv('marineSTX.csv')"
   ]
  },
  {
   "cell_type": "markdown",
   "metadata": {},
   "source": [
    "Remember, we can get some quick information about the dataset by accessing a few of it's attributes:"
   ]
  },
  {
   "cell_type": "code",
   "execution_count": 2,
   "metadata": {},
   "outputs": [
    {
     "data": {
      "text/html": [
       "<div>\n",
       "<style scoped>\n",
       "    .dataframe tbody tr th:only-of-type {\n",
       "        vertical-align: middle;\n",
       "    }\n",
       "\n",
       "    .dataframe tbody tr th {\n",
       "        vertical-align: top;\n",
       "    }\n",
       "\n",
       "    .dataframe thead th {\n",
       "        text-align: right;\n",
       "    }\n",
       "</style>\n",
       "<table border=\"1\" class=\"dataframe\">\n",
       "  <thead>\n",
       "    <tr style=\"text-align: right;\">\n",
       "      <th></th>\n",
       "      <th>Identification</th>\n",
       "      <th>Latitude</th>\n",
       "      <th>Longitude</th>\n",
       "      <th>Time of Observation</th>\n",
       "      <th>Ice Accretion On Ship</th>\n",
       "      <th>Thickness of Ice Accretion On Ship</th>\n",
       "      <th>Rate of Ice Accretion on Ship</th>\n",
       "      <th>Sea Level Pressure</th>\n",
       "      <th>Characteristics of Pressure Tendency</th>\n",
       "      <th>Pressure Tendency</th>\n",
       "      <th>...</th>\n",
       "      <th>Cloud Height Indicator</th>\n",
       "      <th>Cloud Height</th>\n",
       "      <th>Middle Cloud Type</th>\n",
       "      <th>High Cloud Type</th>\n",
       "      <th>Visibility</th>\n",
       "      <th>Visibility Indicator</th>\n",
       "      <th>Present Weather</th>\n",
       "      <th>Past Weather</th>\n",
       "      <th>Wind Direction</th>\n",
       "      <th>Wind Speed</th>\n",
       "    </tr>\n",
       "  </thead>\n",
       "  <tbody>\n",
       "    <tr>\n",
       "      <th>0</th>\n",
       "      <td>CHSV3</td>\n",
       "      <td>17.8</td>\n",
       "      <td>295.3</td>\n",
       "      <td>2018-07-01T00:06:00</td>\n",
       "      <td></td>\n",
       "      <td></td>\n",
       "      <td></td>\n",
       "      <td></td>\n",
       "      <td></td>\n",
       "      <td></td>\n",
       "      <td>...</td>\n",
       "      <td></td>\n",
       "      <td>A</td>\n",
       "      <td></td>\n",
       "      <td></td>\n",
       "      <td></td>\n",
       "      <td></td>\n",
       "      <td></td>\n",
       "      <td></td>\n",
       "      <td>40</td>\n",
       "      <td>3.6</td>\n",
       "    </tr>\n",
       "    <tr>\n",
       "      <th>1</th>\n",
       "      <td>CHSV3</td>\n",
       "      <td>17.8</td>\n",
       "      <td>295.3</td>\n",
       "      <td>2018-07-01T00:12:00</td>\n",
       "      <td></td>\n",
       "      <td></td>\n",
       "      <td></td>\n",
       "      <td></td>\n",
       "      <td></td>\n",
       "      <td></td>\n",
       "      <td>...</td>\n",
       "      <td></td>\n",
       "      <td>A</td>\n",
       "      <td></td>\n",
       "      <td></td>\n",
       "      <td></td>\n",
       "      <td></td>\n",
       "      <td></td>\n",
       "      <td></td>\n",
       "      <td>40</td>\n",
       "      <td>3.1</td>\n",
       "    </tr>\n",
       "    <tr>\n",
       "      <th>2</th>\n",
       "      <td>CHSV3</td>\n",
       "      <td>17.8</td>\n",
       "      <td>295.3</td>\n",
       "      <td>2018-07-01T00:18:00</td>\n",
       "      <td></td>\n",
       "      <td></td>\n",
       "      <td></td>\n",
       "      <td></td>\n",
       "      <td></td>\n",
       "      <td></td>\n",
       "      <td>...</td>\n",
       "      <td></td>\n",
       "      <td>A</td>\n",
       "      <td></td>\n",
       "      <td></td>\n",
       "      <td></td>\n",
       "      <td></td>\n",
       "      <td></td>\n",
       "      <td></td>\n",
       "      <td>30</td>\n",
       "      <td>4.1</td>\n",
       "    </tr>\n",
       "    <tr>\n",
       "      <th>3</th>\n",
       "      <td>CHSV3</td>\n",
       "      <td>17.8</td>\n",
       "      <td>295.3</td>\n",
       "      <td>2018-07-01T00:24:00</td>\n",
       "      <td></td>\n",
       "      <td></td>\n",
       "      <td></td>\n",
       "      <td></td>\n",
       "      <td></td>\n",
       "      <td></td>\n",
       "      <td>...</td>\n",
       "      <td></td>\n",
       "      <td>A</td>\n",
       "      <td></td>\n",
       "      <td></td>\n",
       "      <td></td>\n",
       "      <td></td>\n",
       "      <td></td>\n",
       "      <td></td>\n",
       "      <td>50</td>\n",
       "      <td>2.6</td>\n",
       "    </tr>\n",
       "    <tr>\n",
       "      <th>4</th>\n",
       "      <td>CHSV3</td>\n",
       "      <td>17.8</td>\n",
       "      <td>295.3</td>\n",
       "      <td>2018-07-01T00:30:00</td>\n",
       "      <td></td>\n",
       "      <td></td>\n",
       "      <td></td>\n",
       "      <td>1017.40</td>\n",
       "      <td></td>\n",
       "      <td></td>\n",
       "      <td>...</td>\n",
       "      <td></td>\n",
       "      <td></td>\n",
       "      <td></td>\n",
       "      <td></td>\n",
       "      <td></td>\n",
       "      <td></td>\n",
       "      <td></td>\n",
       "      <td></td>\n",
       "      <td>41</td>\n",
       "      <td>3.4</td>\n",
       "    </tr>\n",
       "  </tbody>\n",
       "</table>\n",
       "<p>5 rows × 33 columns</p>\n",
       "</div>"
      ],
      "text/plain": [
       "  Identification  Latitude  Longitude  Time of Observation  \\\n",
       "0          CHSV3      17.8      295.3  2018-07-01T00:06:00   \n",
       "1          CHSV3      17.8      295.3  2018-07-01T00:12:00   \n",
       "2          CHSV3      17.8      295.3  2018-07-01T00:18:00   \n",
       "3          CHSV3      17.8      295.3  2018-07-01T00:24:00   \n",
       "4          CHSV3      17.8      295.3  2018-07-01T00:30:00   \n",
       "\n",
       "  Ice Accretion On Ship Thickness of Ice Accretion On Ship  \\\n",
       "0                                                            \n",
       "1                                                            \n",
       "2                                                            \n",
       "3                                                            \n",
       "4                                                            \n",
       "\n",
       "  Rate of Ice Accretion on Ship Sea Level Pressure  \\\n",
       "0                                                    \n",
       "1                                                    \n",
       "2                                                    \n",
       "3                                                    \n",
       "4                                          1017.40   \n",
       "\n",
       "  Characteristics of Pressure Tendency Pressure Tendency  ...  \\\n",
       "0                                                         ...   \n",
       "1                                                         ...   \n",
       "2                                                         ...   \n",
       "3                                                         ...   \n",
       "4                                                         ...   \n",
       "\n",
       "  Cloud Height Indicator Cloud Height Middle Cloud Type High Cloud Type  \\\n",
       "0                                   A                                     \n",
       "1                                   A                                     \n",
       "2                                   A                                     \n",
       "3                                   A                                     \n",
       "4                                                                         \n",
       "\n",
       "  Visibility Visibility Indicator Present Weather Past Weather Wind Direction  \\\n",
       "0                                                                          40   \n",
       "1                                                                          40   \n",
       "2                                                                          30   \n",
       "3                                                                          50   \n",
       "4                                                                          41   \n",
       "\n",
       "  Wind Speed  \n",
       "0        3.6  \n",
       "1        3.1  \n",
       "2        4.1  \n",
       "3        2.6  \n",
       "4        3.4  \n",
       "\n",
       "[5 rows x 33 columns]"
      ]
     },
     "execution_count": 2,
     "metadata": {},
     "output_type": "execute_result"
    }
   ],
   "source": [
    "data.head()"
   ]
  },
  {
   "cell_type": "code",
   "execution_count": 3,
   "metadata": {},
   "outputs": [
    {
     "data": {
      "text/plain": [
       "(7383, 33)"
      ]
     },
     "execution_count": 3,
     "metadata": {},
     "output_type": "execute_result"
    }
   ],
   "source": [
    "data.shape"
   ]
  },
  {
   "cell_type": "markdown",
   "metadata": {},
   "source": [
    "This dataset has 33 columns, which correspond to the different types of measurements made as well as some information that describes the data (station ID, position, time). There are 7383 measurements total, one measurement every 6 minutes or so. I can quickly tell that I might have some missing measurements because if there were always 1 measurement every 6 minutes, I'd expect 10 measurements each hour and thus"
   ]
  },
  {
   "cell_type": "code",
   "execution_count": 4,
   "metadata": {},
   "outputs": [
    {
     "data": {
      "text/plain": [
       "7440"
      ]
     },
     "execution_count": 4,
     "metadata": {},
     "output_type": "execute_result"
    }
   ],
   "source": [
    "31*24*10"
   ]
  },
  {
   "cell_type": "markdown",
   "metadata": {},
   "source": [
    "7440 or so total measurements. So, there must be either some missing observations. In this case, I am lucky in that I can see pretty easily that some of those measurements occur at the end of the time period of interest"
   ]
  },
  {
   "cell_type": "code",
   "execution_count": 5,
   "metadata": {},
   "outputs": [
    {
     "data": {
      "text/html": [
       "<div>\n",
       "<style scoped>\n",
       "    .dataframe tbody tr th:only-of-type {\n",
       "        vertical-align: middle;\n",
       "    }\n",
       "\n",
       "    .dataframe tbody tr th {\n",
       "        vertical-align: top;\n",
       "    }\n",
       "\n",
       "    .dataframe thead th {\n",
       "        text-align: right;\n",
       "    }\n",
       "</style>\n",
       "<table border=\"1\" class=\"dataframe\">\n",
       "  <thead>\n",
       "    <tr style=\"text-align: right;\">\n",
       "      <th></th>\n",
       "      <th>Identification</th>\n",
       "      <th>Latitude</th>\n",
       "      <th>Longitude</th>\n",
       "      <th>Time of Observation</th>\n",
       "      <th>Ice Accretion On Ship</th>\n",
       "      <th>Thickness of Ice Accretion On Ship</th>\n",
       "      <th>Rate of Ice Accretion on Ship</th>\n",
       "      <th>Sea Level Pressure</th>\n",
       "      <th>Characteristics of Pressure Tendency</th>\n",
       "      <th>Pressure Tendency</th>\n",
       "      <th>...</th>\n",
       "      <th>Cloud Height Indicator</th>\n",
       "      <th>Cloud Height</th>\n",
       "      <th>Middle Cloud Type</th>\n",
       "      <th>High Cloud Type</th>\n",
       "      <th>Visibility</th>\n",
       "      <th>Visibility Indicator</th>\n",
       "      <th>Present Weather</th>\n",
       "      <th>Past Weather</th>\n",
       "      <th>Wind Direction</th>\n",
       "      <th>Wind Speed</th>\n",
       "    </tr>\n",
       "  </thead>\n",
       "  <tbody>\n",
       "    <tr>\n",
       "      <th>7378</th>\n",
       "      <td>CHSV3</td>\n",
       "      <td>17.8</td>\n",
       "      <td>295.3</td>\n",
       "      <td>2018-07-31T22:54:00</td>\n",
       "      <td></td>\n",
       "      <td></td>\n",
       "      <td></td>\n",
       "      <td></td>\n",
       "      <td></td>\n",
       "      <td></td>\n",
       "      <td>...</td>\n",
       "      <td></td>\n",
       "      <td></td>\n",
       "      <td></td>\n",
       "      <td></td>\n",
       "      <td></td>\n",
       "      <td></td>\n",
       "      <td></td>\n",
       "      <td></td>\n",
       "      <td></td>\n",
       "      <td></td>\n",
       "    </tr>\n",
       "    <tr>\n",
       "      <th>7379</th>\n",
       "      <td>CHSV3</td>\n",
       "      <td>17.8</td>\n",
       "      <td>295.3</td>\n",
       "      <td>2018-07-31T23:00:00</td>\n",
       "      <td></td>\n",
       "      <td></td>\n",
       "      <td></td>\n",
       "      <td>1017.50</td>\n",
       "      <td></td>\n",
       "      <td></td>\n",
       "      <td>...</td>\n",
       "      <td></td>\n",
       "      <td></td>\n",
       "      <td></td>\n",
       "      <td></td>\n",
       "      <td></td>\n",
       "      <td></td>\n",
       "      <td></td>\n",
       "      <td></td>\n",
       "      <td>86</td>\n",
       "      <td>1.9</td>\n",
       "    </tr>\n",
       "    <tr>\n",
       "      <th>7380</th>\n",
       "      <td>CHSV3</td>\n",
       "      <td>17.8</td>\n",
       "      <td>295.3</td>\n",
       "      <td>2018-07-31T23:24:00</td>\n",
       "      <td></td>\n",
       "      <td></td>\n",
       "      <td></td>\n",
       "      <td></td>\n",
       "      <td></td>\n",
       "      <td></td>\n",
       "      <td>...</td>\n",
       "      <td></td>\n",
       "      <td></td>\n",
       "      <td></td>\n",
       "      <td></td>\n",
       "      <td></td>\n",
       "      <td></td>\n",
       "      <td></td>\n",
       "      <td></td>\n",
       "      <td></td>\n",
       "      <td></td>\n",
       "    </tr>\n",
       "    <tr>\n",
       "      <th>7381</th>\n",
       "      <td>CHSV3</td>\n",
       "      <td>17.8</td>\n",
       "      <td>295.3</td>\n",
       "      <td>2018-07-31T23:30:00</td>\n",
       "      <td></td>\n",
       "      <td></td>\n",
       "      <td></td>\n",
       "      <td>1017.60</td>\n",
       "      <td></td>\n",
       "      <td></td>\n",
       "      <td>...</td>\n",
       "      <td></td>\n",
       "      <td></td>\n",
       "      <td></td>\n",
       "      <td></td>\n",
       "      <td></td>\n",
       "      <td></td>\n",
       "      <td></td>\n",
       "      <td></td>\n",
       "      <td>57</td>\n",
       "      <td>2.5</td>\n",
       "    </tr>\n",
       "    <tr>\n",
       "      <th>7382</th>\n",
       "      <td>CHSV3</td>\n",
       "      <td>17.8</td>\n",
       "      <td>295.3</td>\n",
       "      <td>2018-07-31T23:54:00</td>\n",
       "      <td></td>\n",
       "      <td></td>\n",
       "      <td></td>\n",
       "      <td></td>\n",
       "      <td></td>\n",
       "      <td></td>\n",
       "      <td>...</td>\n",
       "      <td></td>\n",
       "      <td></td>\n",
       "      <td></td>\n",
       "      <td></td>\n",
       "      <td></td>\n",
       "      <td></td>\n",
       "      <td></td>\n",
       "      <td></td>\n",
       "      <td></td>\n",
       "      <td></td>\n",
       "    </tr>\n",
       "  </tbody>\n",
       "</table>\n",
       "<p>5 rows × 33 columns</p>\n",
       "</div>"
      ],
      "text/plain": [
       "     Identification  Latitude  Longitude  Time of Observation  \\\n",
       "7378          CHSV3      17.8      295.3  2018-07-31T22:54:00   \n",
       "7379          CHSV3      17.8      295.3  2018-07-31T23:00:00   \n",
       "7380          CHSV3      17.8      295.3  2018-07-31T23:24:00   \n",
       "7381          CHSV3      17.8      295.3  2018-07-31T23:30:00   \n",
       "7382          CHSV3      17.8      295.3  2018-07-31T23:54:00   \n",
       "\n",
       "     Ice Accretion On Ship Thickness of Ice Accretion On Ship  \\\n",
       "7378                                                            \n",
       "7379                                                            \n",
       "7380                                                            \n",
       "7381                                                            \n",
       "7382                                                            \n",
       "\n",
       "     Rate of Ice Accretion on Ship Sea Level Pressure  \\\n",
       "7378                                                    \n",
       "7379                                          1017.50   \n",
       "7380                                                    \n",
       "7381                                          1017.60   \n",
       "7382                                                    \n",
       "\n",
       "     Characteristics of Pressure Tendency Pressure Tendency  ...  \\\n",
       "7378                                                         ...   \n",
       "7379                                                         ...   \n",
       "7380                                                         ...   \n",
       "7381                                                         ...   \n",
       "7382                                                         ...   \n",
       "\n",
       "     Cloud Height Indicator Cloud Height Middle Cloud Type High Cloud Type  \\\n",
       "7378                                                                         \n",
       "7379                                                                         \n",
       "7380                                                                         \n",
       "7381                                                                         \n",
       "7382                                                                         \n",
       "\n",
       "     Visibility Visibility Indicator Present Weather Past Weather  \\\n",
       "7378                                                                \n",
       "7379                                                                \n",
       "7380                                                                \n",
       "7381                                                                \n",
       "7382                                                                \n",
       "\n",
       "     Wind Direction Wind Speed  \n",
       "7378                            \n",
       "7379             86        1.9  \n",
       "7380                            \n",
       "7381             57        2.5  \n",
       "7382                            \n",
       "\n",
       "[5 rows x 33 columns]"
      ]
     },
     "execution_count": 5,
     "metadata": {},
     "output_type": "execute_result"
    }
   ],
   "source": [
    "data.tail()"
   ]
  },
  {
   "cell_type": "markdown",
   "metadata": {},
   "source": [
    "It doesn't really matter though. My dataset is pretty nearly complete. As it is, many measurements are missing. For our purposes, it might make sense to create a dataframe that only contains columns that we are interested in. To do that, I need to take a look at all of the measurements types."
   ]
  },
  {
   "cell_type": "code",
   "execution_count": 6,
   "metadata": {},
   "outputs": [
    {
     "name": "stdout",
     "output_type": "stream",
     "text": [
      "Index(['Identification', 'Latitude', 'Longitude', 'Time of Observation',\n",
      "       'Ice Accretion On Ship', 'Thickness of Ice Accretion On Ship',\n",
      "       'Rate of Ice Accretion on Ship', 'Sea Level Pressure',\n",
      "       'Characteristics of Pressure Tendency', 'Pressure Tendency',\n",
      "       'Air Temperature', 'Wet Bulb Temperature', 'Dew Point Temperature',\n",
      "       'Sea Surface Temperature', 'Wave Direction', 'Wave Period',\n",
      "       'Wave Height', 'Swell Direction', 'Swell Period', 'Swell Height',\n",
      "       'Total Cloud Amount', 'Low Cloud Amount', 'Low Cloud Type',\n",
      "       'Cloud Height Indicator', 'Cloud Height', 'Middle Cloud Type',\n",
      "       'High Cloud Type', 'Visibility', 'Visibility Indicator',\n",
      "       'Present Weather', 'Past Weather', 'Wind Direction', 'Wind Speed'],\n",
      "      dtype='object')\n"
     ]
    }
   ],
   "source": [
    "print(data.columns)"
   ]
  },
  {
   "cell_type": "markdown",
   "metadata": {},
   "source": [
    "When we used `describe()` we couldn't see all of the columns.\n",
    "\n",
    "Replacing data in a data frame\n",
    "------------------------------\n",
    "\n",
    "One of the issues with our dataset is there are a bunch of blank entries. Because of the way the data were formatted in the file that we read, we are getting some false information about our data. For example, we know there are 7383 rows total, but it is clear that there aren't that many data points for any of the columns. Let's look at ice accretion as an example:"
   ]
  },
  {
   "cell_type": "code",
   "execution_count": 7,
   "metadata": {},
   "outputs": [
    {
     "data": {
      "text/plain": [
       "7383"
      ]
     },
     "execution_count": 7,
     "metadata": {},
     "output_type": "execute_result"
    }
   ],
   "source": [
    "data['Ice Accretion On Ship'].count()"
   ]
  },
  {
   "cell_type": "markdown",
   "metadata": {},
   "source": [
    "This is problematic as we probably want to know exactly how many data points there are. The specific issue here is that missing data was entered as a blank string ('   '):"
   ]
  },
  {
   "cell_type": "code",
   "execution_count": 8,
   "metadata": {},
   "outputs": [
    {
     "data": {
      "text/plain": [
       "' '"
      ]
     },
     "execution_count": 8,
     "metadata": {},
     "output_type": "execute_result"
    }
   ],
   "source": [
    "data['Ice Accretion On Ship'][0]"
   ]
  },
  {
   "cell_type": "markdown",
   "metadata": {},
   "source": [
    "Pandas sees that there is a string and doesn't much care that it is blank, so it thinks we have good data there. The best way to handle this is to convert all cells that are only blank strings to a `numpy.nan`. Pandas knows to ignore those values when doing calculations. We can do this using the `replace()` method of the data frame."
   ]
  },
  {
   "cell_type": "code",
   "execution_count": 9,
   "metadata": {},
   "outputs": [
    {
     "data": {
      "text/html": [
       "<div>\n",
       "<style scoped>\n",
       "    .dataframe tbody tr th:only-of-type {\n",
       "        vertical-align: middle;\n",
       "    }\n",
       "\n",
       "    .dataframe tbody tr th {\n",
       "        vertical-align: top;\n",
       "    }\n",
       "\n",
       "    .dataframe thead th {\n",
       "        text-align: right;\n",
       "    }\n",
       "</style>\n",
       "<table border=\"1\" class=\"dataframe\">\n",
       "  <thead>\n",
       "    <tr style=\"text-align: right;\">\n",
       "      <th></th>\n",
       "      <th>Identification</th>\n",
       "      <th>Latitude</th>\n",
       "      <th>Longitude</th>\n",
       "      <th>Time of Observation</th>\n",
       "      <th>Ice Accretion On Ship</th>\n",
       "      <th>Thickness of Ice Accretion On Ship</th>\n",
       "      <th>Rate of Ice Accretion on Ship</th>\n",
       "      <th>Sea Level Pressure</th>\n",
       "      <th>Characteristics of Pressure Tendency</th>\n",
       "      <th>Pressure Tendency</th>\n",
       "      <th>...</th>\n",
       "      <th>Cloud Height Indicator</th>\n",
       "      <th>Cloud Height</th>\n",
       "      <th>Middle Cloud Type</th>\n",
       "      <th>High Cloud Type</th>\n",
       "      <th>Visibility</th>\n",
       "      <th>Visibility Indicator</th>\n",
       "      <th>Present Weather</th>\n",
       "      <th>Past Weather</th>\n",
       "      <th>Wind Direction</th>\n",
       "      <th>Wind Speed</th>\n",
       "    </tr>\n",
       "  </thead>\n",
       "  <tbody>\n",
       "    <tr>\n",
       "      <th>0</th>\n",
       "      <td>CHSV3</td>\n",
       "      <td>17.8</td>\n",
       "      <td>295.3</td>\n",
       "      <td>2018-07-01T00:06:00</td>\n",
       "      <td>NaN</td>\n",
       "      <td>NaN</td>\n",
       "      <td>NaN</td>\n",
       "      <td>NaN</td>\n",
       "      <td>NaN</td>\n",
       "      <td>NaN</td>\n",
       "      <td>...</td>\n",
       "      <td>NaN</td>\n",
       "      <td>A</td>\n",
       "      <td>NaN</td>\n",
       "      <td>NaN</td>\n",
       "      <td>NaN</td>\n",
       "      <td>NaN</td>\n",
       "      <td>NaN</td>\n",
       "      <td>NaN</td>\n",
       "      <td>40</td>\n",
       "      <td>3.6</td>\n",
       "    </tr>\n",
       "    <tr>\n",
       "      <th>1</th>\n",
       "      <td>CHSV3</td>\n",
       "      <td>17.8</td>\n",
       "      <td>295.3</td>\n",
       "      <td>2018-07-01T00:12:00</td>\n",
       "      <td>NaN</td>\n",
       "      <td>NaN</td>\n",
       "      <td>NaN</td>\n",
       "      <td>NaN</td>\n",
       "      <td>NaN</td>\n",
       "      <td>NaN</td>\n",
       "      <td>...</td>\n",
       "      <td>NaN</td>\n",
       "      <td>A</td>\n",
       "      <td>NaN</td>\n",
       "      <td>NaN</td>\n",
       "      <td>NaN</td>\n",
       "      <td>NaN</td>\n",
       "      <td>NaN</td>\n",
       "      <td>NaN</td>\n",
       "      <td>40</td>\n",
       "      <td>3.1</td>\n",
       "    </tr>\n",
       "    <tr>\n",
       "      <th>2</th>\n",
       "      <td>CHSV3</td>\n",
       "      <td>17.8</td>\n",
       "      <td>295.3</td>\n",
       "      <td>2018-07-01T00:18:00</td>\n",
       "      <td>NaN</td>\n",
       "      <td>NaN</td>\n",
       "      <td>NaN</td>\n",
       "      <td>NaN</td>\n",
       "      <td>NaN</td>\n",
       "      <td>NaN</td>\n",
       "      <td>...</td>\n",
       "      <td>NaN</td>\n",
       "      <td>A</td>\n",
       "      <td>NaN</td>\n",
       "      <td>NaN</td>\n",
       "      <td>NaN</td>\n",
       "      <td>NaN</td>\n",
       "      <td>NaN</td>\n",
       "      <td>NaN</td>\n",
       "      <td>30</td>\n",
       "      <td>4.1</td>\n",
       "    </tr>\n",
       "    <tr>\n",
       "      <th>3</th>\n",
       "      <td>CHSV3</td>\n",
       "      <td>17.8</td>\n",
       "      <td>295.3</td>\n",
       "      <td>2018-07-01T00:24:00</td>\n",
       "      <td>NaN</td>\n",
       "      <td>NaN</td>\n",
       "      <td>NaN</td>\n",
       "      <td>NaN</td>\n",
       "      <td>NaN</td>\n",
       "      <td>NaN</td>\n",
       "      <td>...</td>\n",
       "      <td>NaN</td>\n",
       "      <td>A</td>\n",
       "      <td>NaN</td>\n",
       "      <td>NaN</td>\n",
       "      <td>NaN</td>\n",
       "      <td>NaN</td>\n",
       "      <td>NaN</td>\n",
       "      <td>NaN</td>\n",
       "      <td>50</td>\n",
       "      <td>2.6</td>\n",
       "    </tr>\n",
       "    <tr>\n",
       "      <th>4</th>\n",
       "      <td>CHSV3</td>\n",
       "      <td>17.8</td>\n",
       "      <td>295.3</td>\n",
       "      <td>2018-07-01T00:30:00</td>\n",
       "      <td>NaN</td>\n",
       "      <td>NaN</td>\n",
       "      <td>NaN</td>\n",
       "      <td>1017.40</td>\n",
       "      <td>NaN</td>\n",
       "      <td>NaN</td>\n",
       "      <td>...</td>\n",
       "      <td>NaN</td>\n",
       "      <td>NaN</td>\n",
       "      <td>NaN</td>\n",
       "      <td>NaN</td>\n",
       "      <td>NaN</td>\n",
       "      <td>NaN</td>\n",
       "      <td>NaN</td>\n",
       "      <td>NaN</td>\n",
       "      <td>41</td>\n",
       "      <td>3.4</td>\n",
       "    </tr>\n",
       "  </tbody>\n",
       "</table>\n",
       "<p>5 rows × 33 columns</p>\n",
       "</div>"
      ],
      "text/plain": [
       "  Identification  Latitude  Longitude  Time of Observation  \\\n",
       "0          CHSV3      17.8      295.3  2018-07-01T00:06:00   \n",
       "1          CHSV3      17.8      295.3  2018-07-01T00:12:00   \n",
       "2          CHSV3      17.8      295.3  2018-07-01T00:18:00   \n",
       "3          CHSV3      17.8      295.3  2018-07-01T00:24:00   \n",
       "4          CHSV3      17.8      295.3  2018-07-01T00:30:00   \n",
       "\n",
       "   Ice Accretion On Ship  Thickness of Ice Accretion On Ship  \\\n",
       "0                    NaN                                 NaN   \n",
       "1                    NaN                                 NaN   \n",
       "2                    NaN                                 NaN   \n",
       "3                    NaN                                 NaN   \n",
       "4                    NaN                                 NaN   \n",
       "\n",
       "   Rate of Ice Accretion on Ship Sea Level Pressure  \\\n",
       "0                            NaN                NaN   \n",
       "1                            NaN                NaN   \n",
       "2                            NaN                NaN   \n",
       "3                            NaN                NaN   \n",
       "4                            NaN            1017.40   \n",
       "\n",
       "   Characteristics of Pressure Tendency  Pressure Tendency  ...  \\\n",
       "0                                   NaN                NaN  ...   \n",
       "1                                   NaN                NaN  ...   \n",
       "2                                   NaN                NaN  ...   \n",
       "3                                   NaN                NaN  ...   \n",
       "4                                   NaN                NaN  ...   \n",
       "\n",
       "  Cloud Height Indicator  Cloud Height  Middle Cloud Type High Cloud Type  \\\n",
       "0                    NaN             A                NaN             NaN   \n",
       "1                    NaN             A                NaN             NaN   \n",
       "2                    NaN             A                NaN             NaN   \n",
       "3                    NaN             A                NaN             NaN   \n",
       "4                    NaN           NaN                NaN             NaN   \n",
       "\n",
       "   Visibility  Visibility Indicator  Present Weather  Past Weather  \\\n",
       "0         NaN                   NaN              NaN           NaN   \n",
       "1         NaN                   NaN              NaN           NaN   \n",
       "2         NaN                   NaN              NaN           NaN   \n",
       "3         NaN                   NaN              NaN           NaN   \n",
       "4         NaN                   NaN              NaN           NaN   \n",
       "\n",
       "   Wind Direction  Wind Speed  \n",
       "0              40         3.6  \n",
       "1              40         3.1  \n",
       "2              30         4.1  \n",
       "3              50         2.6  \n",
       "4              41         3.4  \n",
       "\n",
       "[5 rows x 33 columns]"
      ]
     },
     "execution_count": 9,
     "metadata": {},
     "output_type": "execute_result"
    }
   ],
   "source": [
    "data = data.replace(r'^\\s*$', np.nan, regex=True)\n",
    "data.head()"
   ]
  },
  {
   "cell_type": "markdown",
   "metadata": {},
   "source": [
    "The syntax of `replace()` is pretty simple. The first argument is the thing that you want to \n",
    "replace and the second argument is the thing that you want to replace it with. The tricky bit here \n",
    "is I am using a *regular expression* to tell pandas what I want to replace (and I have to \n",
    "let pandas know that by setting `regex=True`. Regular expressions are sequences of characters that \n",
    "can be used to replace longer strings. We don't need to know the details of how to use them here as it is beyond the scope of this lesson. The reason that we need them is to tell pandas that we want to replace cells that have any number of spaces (0, 1, 2, 100, ...) with `NaN` (which, BTW, stands for not a number). That's what the first argument in the call to `replace()` is doing.\n",
    "\n",
    "With that done, our count should be a little better:"
   ]
  },
  {
   "cell_type": "code",
   "execution_count": 10,
   "metadata": {},
   "outputs": [
    {
     "data": {
      "text/plain": [
       "0"
      ]
     },
     "execution_count": 10,
     "metadata": {},
     "output_type": "execute_result"
    }
   ],
   "source": [
    "data['Ice Accretion On Ship'].count()"
   ]
  },
  {
   "cell_type": "markdown",
   "metadata": {},
   "source": [
    "Yep, no data in that column. That's good to know! Let's look at a column that does have some data."
   ]
  },
  {
   "cell_type": "code",
   "execution_count": 11,
   "metadata": {},
   "outputs": [
    {
     "data": {
      "text/plain": [
       "5803"
      ]
     },
     "execution_count": 11,
     "metadata": {},
     "output_type": "execute_result"
    }
   ],
   "source": [
    "data['Sea Surface Temperature'].count()"
   ]
  },
  {
   "cell_type": "markdown",
   "metadata": {},
   "source": [
    "Data type conversion\n",
    "--------------------\n",
    "\n",
    "The next issue that is common when we do a quick `read_csv()` is that we might need to change the type of our data. In this example, all of the data in our csv file was formatted as a string, even though most of it should be numerical data. So, we need to handle that."
   ]
  },
  {
   "cell_type": "code",
   "execution_count": 12,
   "metadata": {},
   "outputs": [
    {
     "data": {
      "text/plain": [
       "dtype('O')"
      ]
     },
     "execution_count": 12,
     "metadata": {},
     "output_type": "execute_result"
    }
   ],
   "source": [
    "data['Sea Surface Temperature'].dtypes"
   ]
  },
  {
   "cell_type": "markdown",
   "metadata": {},
   "source": [
    "`dtype('O')` is pandas tells us the data is a string.\n",
    "\n",
    "The best way to do this is by column using the `astype()` method:"
   ]
  },
  {
   "cell_type": "code",
   "execution_count": 13,
   "metadata": {},
   "outputs": [
    {
     "data": {
      "text/plain": [
       "dtype('float64')"
      ]
     },
     "execution_count": 13,
     "metadata": {},
     "output_type": "execute_result"
    }
   ],
   "source": [
    "data['Sea Surface Temperature'] = data['Sea Surface Temperature'].astype(float)\n",
    "data['Sea Surface Temperature'].dtypes"
   ]
  },
  {
   "cell_type": "markdown",
   "metadata": {},
   "source": [
    "Now, we have a column full of floats (64 bit floats, which is a normal float for python). Note that this action didn't change our count:"
   ]
  },
  {
   "cell_type": "code",
   "execution_count": 14,
   "metadata": {},
   "outputs": [
    {
     "data": {
      "text/plain": [
       "5803"
      ]
     },
     "execution_count": 14,
     "metadata": {},
     "output_type": "execute_result"
    }
   ],
   "source": [
    "data['Sea Surface Temperature'].count()"
   ]
  },
  {
   "cell_type": "markdown",
   "metadata": {},
   "source": [
    "We will be using the 'Air Temperature' column as well, so let's convert that too."
   ]
  },
  {
   "cell_type": "code",
   "execution_count": 15,
   "metadata": {},
   "outputs": [],
   "source": [
    "data['Air Temperature'] = data['Air Temperature'].astype(float)"
   ]
  },
  {
   "cell_type": "markdown",
   "metadata": {},
   "source": [
    "Basic Calculations\n",
    "------------------\n",
    "\n",
    "One of the most basic operations that we might want to do is to perform some calculations between rows. For example, I might want to calculate the difference between two columns and save that data in a new column. To do that, we need to create a new column and give it a starting value."
   ]
  },
  {
   "cell_type": "code",
   "execution_count": 16,
   "metadata": {},
   "outputs": [
    {
     "data": {
      "text/plain": [
       "Index(['Identification', 'Latitude', 'Longitude', 'Time of Observation',\n",
       "       'Ice Accretion On Ship', 'Thickness of Ice Accretion On Ship',\n",
       "       'Rate of Ice Accretion on Ship', 'Sea Level Pressure',\n",
       "       'Characteristics of Pressure Tendency', 'Pressure Tendency',\n",
       "       'Air Temperature', 'Wet Bulb Temperature', 'Dew Point Temperature',\n",
       "       'Sea Surface Temperature', 'Wave Direction', 'Wave Period',\n",
       "       'Wave Height', 'Swell Direction', 'Swell Period', 'Swell Height',\n",
       "       'Total Cloud Amount', 'Low Cloud Amount', 'Low Cloud Type',\n",
       "       'Cloud Height Indicator', 'Cloud Height', 'Middle Cloud Type',\n",
       "       'High Cloud Type', 'Visibility', 'Visibility Indicator',\n",
       "       'Present Weather', 'Past Weather', 'Wind Direction', 'Wind Speed',\n",
       "       'Temperature Difference'],\n",
       "      dtype='object')"
      ]
     },
     "execution_count": 16,
     "metadata": {},
     "output_type": "execute_result"
    }
   ],
   "source": [
    "data['Temperature Difference'] = np.nan\n",
    "data.columns"
   ]
  },
  {
   "cell_type": "markdown",
   "metadata": {},
   "source": [
    "You can see that my column has been added. I filled it with NaNs because I know there are already a lot of gaps in my data, so I want to make sure I'm not populating my \"Temperature Difference\" column with anything when data isn't availble.\n",
    "\n",
    "Next, making a simple mathematical calculation is simple:"
   ]
  },
  {
   "cell_type": "code",
   "execution_count": 17,
   "metadata": {},
   "outputs": [],
   "source": [
    "data['Temperature Difference'] = data['Sea Surface Temperature'] - data['Air Temperature']"
   ]
  },
  {
   "cell_type": "markdown",
   "metadata": {},
   "source": [
    "Now, we have populated our column with the difference in temperature between the air and the \n",
    "sea surface."
   ]
  },
  {
   "cell_type": "code",
   "execution_count": 18,
   "metadata": {},
   "outputs": [
    {
     "data": {
      "text/plain": [
       "0     1.1\n",
       "1     1.1\n",
       "2     1.0\n",
       "3     1.1\n",
       "4     NaN\n",
       "5     1.1\n",
       "6     NaN\n",
       "7     1.1\n",
       "8     NaN\n",
       "9     1.2\n",
       "10    1.2\n",
       "11    1.2\n",
       "12    NaN\n",
       "13    1.2\n",
       "14    1.2\n",
       "15    NaN\n",
       "16    NaN\n",
       "17    NaN\n",
       "18    1.0\n",
       "19    1.1\n",
       "20    1.1\n",
       "21    1.1\n",
       "22    NaN\n",
       "23    1.1\n",
       "24    1.1\n",
       "25    1.1\n",
       "26    1.1\n",
       "27    NaN\n",
       "28    1.0\n",
       "29    1.0\n",
       "Name: Temperature Difference, dtype: float64"
      ]
     },
     "execution_count": 18,
     "metadata": {},
     "output_type": "execute_result"
    }
   ],
   "source": [
    "data['Temperature Difference'].head(30)"
   ]
  },
  {
   "cell_type": "markdown",
   "metadata": {},
   "source": [
    "In some cases, we didn't have data for either the sea surface temperature or the air temperature. In those cases, we see a value of NaN, which is good since pandas knows to ignore those values."
   ]
  },
  {
   "cell_type": "code",
   "execution_count": 19,
   "metadata": {},
   "outputs": [
    {
     "name": "stdout",
     "output_type": "stream",
     "text": [
      "Total valid measurements : 5613\n",
      "Max temp difference: 3.5\n",
      "Min temp difference: -3.0\n",
      "Average difference: 0.20703723499020155\n"
     ]
    }
   ],
   "source": [
    "print(\"Total valid measurements : {}\".format(data['Temperature Difference'].count()))\n",
    "print(\"Max temp difference: {}\".format(data['Temperature Difference'].max()))\n",
    "print(\"Min temp difference: {}\".format(data['Temperature Difference'].min()))\n",
    "print(\"Average difference: {}\".format(data['Temperature Difference'].mean()))"
   ]
  },
  {
   "cell_type": "markdown",
   "metadata": {},
   "source": [
    "Now I can make a quick plot of this new column vs. the observation time. Before I do that, remember, all of my original data was formatted as a string:"
   ]
  },
  {
   "cell_type": "code",
   "execution_count": 20,
   "metadata": {},
   "outputs": [
    {
     "data": {
      "text/plain": [
       "dtype('O')"
      ]
     },
     "execution_count": 20,
     "metadata": {},
     "output_type": "execute_result"
    }
   ],
   "source": [
    "data[\"Time of Observation\"].dtypes"
   ]
  },
  {
   "cell_type": "markdown",
   "metadata": {},
   "source": [
    "Any time we are working with dates or times, we should use Python's datetime data type!"
   ]
  },
  {
   "cell_type": "code",
   "execution_count": 21,
   "metadata": {},
   "outputs": [
    {
     "name": "stdout",
     "output_type": "stream",
     "text": [
      "0   2018-07-01 00:06:00\n",
      "1   2018-07-01 00:12:00\n",
      "2   2018-07-01 00:18:00\n",
      "3   2018-07-01 00:24:00\n",
      "4   2018-07-01 00:30:00\n",
      "Name: Time of Observation, dtype: datetime64[ns]\n",
      "datetime64[ns]\n"
     ]
    }
   ],
   "source": [
    "data[\"Time of Observation\"] = pd.to_datetime(data[\"Time of Observation\"])\n",
    "print(data[\"Time of Observation\"].head())\n",
    "print(data[\"Time of Observation\"].dtypes)"
   ]
  },
  {
   "cell_type": "markdown",
   "metadata": {},
   "source": [
    "In this case, the format of the time stamp data in the csv file was such that the `to_datetime()` function could figure out what the year, month, day, etc. were and do the conversion. This may not be quite so simple if your time stamp data isn't formatted in a typical manner.\n",
    "\n",
    "With the conversion done, I can plot:"
   ]
  },
  {
   "cell_type": "code",
   "execution_count": 22,
   "metadata": {},
   "outputs": [
    {
     "data": {
      "text/plain": [
       "<matplotlib.axes._subplots.AxesSubplot at 0x123a3b410>"
      ]
     },
     "execution_count": 22,
     "metadata": {},
     "output_type": "execute_result"
    },
    {
     "data": {
      "image/png": "[encoded data removed]",
      "text/plain": [
       "<Figure size 720x360 with 1 Axes>"
      ]
     },
     "metadata": {
      "needs_background": "light"
     },
     "output_type": "display_data"
    }
   ],
   "source": [
    "data.plot('Time of Observation','Temperature Difference',figsize=(10,5))"
   ]
  },
  {
   "cell_type": "markdown",
   "metadata": {},
   "source": [
    "Filtering Data\n",
    "--------------\n",
    "\n",
    "Another common task that we would do with a dataset is filtering. Pandas makes this easy to do with the use of common comparison operators. Let's look at data when the \n",
    "sea level pressure was high. First, I'll again, need to covert the column to float."
   ]
  },
  {
   "cell_type": "code",
   "execution_count": 23,
   "metadata": {},
   "outputs": [
    {
     "name": "stdout",
     "output_type": "stream",
     "text": [
      "Identification                          74\n",
      "Latitude                                74\n",
      "Longitude                               74\n",
      "Time of Observation                     74\n",
      "Ice Accretion On Ship                    0\n",
      "Thickness of Ice Accretion On Ship       0\n",
      "Rate of Ice Accretion on Ship            0\n",
      "Sea Level Pressure                      74\n",
      "Characteristics of Pressure Tendency     0\n",
      "Pressure Tendency                        0\n",
      "Air Temperature                         74\n",
      "Wet Bulb Temperature                     0\n",
      "Dew Point Temperature                    0\n",
      "Sea Surface Temperature                  0\n",
      "Wave Direction                           0\n",
      "Wave Period                              0\n",
      "Wave Height                              0\n",
      "Swell Direction                          0\n",
      "Swell Period                             0\n",
      "Swell Height                             0\n",
      "Total Cloud Amount                       0\n",
      "Low Cloud Amount                         0\n",
      "Low Cloud Type                           0\n",
      "Cloud Height Indicator                   0\n",
      "Cloud Height                             0\n",
      "Middle Cloud Type                        0\n",
      "High Cloud Type                          0\n",
      "Visibility                               0\n",
      "Visibility Indicator                     0\n",
      "Present Weather                          0\n",
      "Past Weather                             0\n",
      "Wind Direction                          73\n",
      "Wind Speed                              73\n",
      "Temperature Difference                   0\n",
      "dtype: int64\n"
     ]
    }
   ],
   "source": [
    "data['Sea Level Pressure'] = data['Sea Level Pressure'].astype(float)\n",
    "data['Wind Speed'] = data['Wind Speed'].astype(float)\n",
    "\n",
    "highpressure = data.loc[data['Sea Level Pressure'] > 1020]\n",
    "print(highpressure.count())"
   ]
  },
  {
   "cell_type": "markdown",
   "metadata": {},
   "source": [
    "The result of filtering in this way is a new dataframe that only contains data \n",
    "that matches the condition that I specified. I saved the result as a new variable. Notice how I used the `loc()` method to index the data frame. That allowed me to specifiy the \n",
    "condition by which to filter: \"data['Sea Level Pressure'] > 1020\". The result is a dataframe with 74 columns. Most of the rows don't have any data. But, we can see we have a nearly complete data record of the air temperature during these measurements and the wind velocity. \n",
    "\n",
    "We can do the same thing to look at days when the pressure was relatively low:"
   ]
  },
  {
   "cell_type": "code",
   "execution_count": 24,
   "metadata": {},
   "outputs": [
    {
     "name": "stdout",
     "output_type": "stream",
     "text": [
      "Identification                          44\n",
      "Latitude                                44\n",
      "Longitude                               44\n",
      "Time of Observation                     44\n",
      "Ice Accretion On Ship                    0\n",
      "Thickness of Ice Accretion On Ship       0\n",
      "Rate of Ice Accretion on Ship            0\n",
      "Sea Level Pressure                      44\n",
      "Characteristics of Pressure Tendency     0\n",
      "Pressure Tendency                        0\n",
      "Air Temperature                         44\n",
      "Wet Bulb Temperature                     0\n",
      "Dew Point Temperature                    0\n",
      "Sea Surface Temperature                  0\n",
      "Wave Direction                           0\n",
      "Wave Period                              0\n",
      "Wave Height                              0\n",
      "Swell Direction                          0\n",
      "Swell Period                             0\n",
      "Swell Height                             0\n",
      "Total Cloud Amount                       0\n",
      "Low Cloud Amount                         0\n",
      "Low Cloud Type                           0\n",
      "Cloud Height Indicator                   0\n",
      "Cloud Height                             0\n",
      "Middle Cloud Type                        0\n",
      "High Cloud Type                          0\n",
      "Visibility                               0\n",
      "Visibility Indicator                     0\n",
      "Present Weather                          0\n",
      "Past Weather                             0\n",
      "Wind Direction                          44\n",
      "Wind Speed                              44\n",
      "Temperature Difference                   0\n",
      "dtype: int64\n"
     ]
    }
   ],
   "source": [
    "lowpressure = data.loc[data['Sea Level Pressure'] < 1016]\n",
    "print(lowpressure.count())"
   ]
  },
  {
   "cell_type": "markdown",
   "metadata": {},
   "source": [
    "Again, I created a new dataframe here. Using filtering, we can quickly look to see if there are any interesting trends in the data."
   ]
  },
  {
   "cell_type": "code",
   "execution_count": 25,
   "metadata": {},
   "outputs": [
    {
     "data": {
      "image/png": "[encoded data removed]",
      "text/plain": [
       "<Figure size 576x360 with 1 Axes>"
      ]
     },
     "metadata": {
      "needs_background": "light"
     },
     "output_type": "display_data"
    }
   ],
   "source": [
    "from matplotlib import pyplot as pp\n",
    "pp.figure(figsize=(8,5))\n",
    "pp.plot('Time of Observation','Wind Speed',data=highpressure,color='red',marker='o',linestyle='None',label=r'P$_{high}$')\n",
    "pp.plot('Time of Observation','Wind Speed',data=lowpressure,color='green',marker='o',linestyle='None',label=r'P$_{low}$')\n",
    "pp.ylabel('Wind Speed')\n",
    "pp.xlabel('Date')\n",
    "pp.legend(loc=\"upper right\")\n",
    "pp.show()"
   ]
  },
  {
   "cell_type": "markdown",
   "metadata": {},
   "source": [
    "I needed to use the `data` keyword and give the name of the relevant data frame in my call to `pp.plot()` here because I wanted to lines on a single plot. This is slightly more \n",
    "complex than the plot earlier where I was able to use the `plot` method of the data frame \n",
    "it self (e.g. data.plot()), but still, we are able to pretty quickly get a plot of the relevant data. In this case, we might conclude that the high and low pressures occurred during isolated longer term weather events, but that wind direction wasn't necessarily correlated to those events.\n",
    "\n",
    "Another way to filter data is by value. As an example, let's take a look at the wind direction data:"
   ]
  },
  {
   "cell_type": "code",
   "execution_count": 26,
   "metadata": {},
   "outputs": [
    {
     "name": "stdout",
     "output_type": "stream",
     "text": [
      "0    40.0\n",
      "1    40.0\n",
      "2    30.0\n",
      "3    50.0\n",
      "4    41.0\n",
      "Name: Wind Direction, dtype: float64\n"
     ]
    }
   ],
   "source": [
    "data['Wind Direction'] = data['Wind Direction'].astype(float)\n",
    "print(data['Wind Direction'].head())"
   ]
  },
  {
   "cell_type": "markdown",
   "metadata": {},
   "source": [
    "I wonder if the wind direction was ever exactly 70 or 80 degrees?"
   ]
  },
  {
   "cell_type": "code",
   "execution_count": 27,
   "metadata": {},
   "outputs": [
    {
     "data": {
      "text/plain": [
       "0       False\n",
       "1       False\n",
       "2       False\n",
       "3       False\n",
       "4       False\n",
       "        ...  \n",
       "7378    False\n",
       "7379    False\n",
       "7380    False\n",
       "7381    False\n",
       "7382    False\n",
       "Name: Wind Direction, Length: 7383, dtype: bool"
      ]
     },
     "execution_count": 27,
     "metadata": {},
     "output_type": "execute_result"
    }
   ],
   "source": [
    "data['Wind Direction'].isin([70,80])"
   ]
  },
  {
   "cell_type": "markdown",
   "metadata": {},
   "source": [
    "The `isin()` method checks to see if a specific value(s) *is in* the specified column. If it is, then a True is returned, else, False. This is most useful when used to index the data frame itself. Here, I'll use the `isin()` method to grab only the rows when the wind direction was 70 or 80 degrees, and then use the `loc` attribue to print just wind direction and temperature difference. "
   ]
  },
  {
   "cell_type": "code",
   "execution_count": 28,
   "metadata": {},
   "outputs": [
    {
     "data": {
      "text/html": [
       "<div>\n",
       "<style scoped>\n",
       "    .dataframe tbody tr th:only-of-type {\n",
       "        vertical-align: middle;\n",
       "    }\n",
       "\n",
       "    .dataframe tbody tr th {\n",
       "        vertical-align: top;\n",
       "    }\n",
       "\n",
       "    .dataframe thead th {\n",
       "        text-align: right;\n",
       "    }\n",
       "</style>\n",
       "<table border=\"1\" class=\"dataframe\">\n",
       "  <thead>\n",
       "    <tr style=\"text-align: right;\">\n",
       "      <th></th>\n",
       "      <th>Wind Direction</th>\n",
       "      <th>Temperature Difference</th>\n",
       "    </tr>\n",
       "  </thead>\n",
       "  <tbody>\n",
       "    <tr>\n",
       "      <th>34</th>\n",
       "      <td>70.0</td>\n",
       "      <td>1.1</td>\n",
       "    </tr>\n",
       "    <tr>\n",
       "      <th>44</th>\n",
       "      <td>80.0</td>\n",
       "      <td>1.0</td>\n",
       "    </tr>\n",
       "    <tr>\n",
       "      <th>46</th>\n",
       "      <td>70.0</td>\n",
       "      <td>1.6</td>\n",
       "    </tr>\n",
       "    <tr>\n",
       "      <th>65</th>\n",
       "      <td>70.0</td>\n",
       "      <td>1.0</td>\n",
       "    </tr>\n",
       "    <tr>\n",
       "      <th>67</th>\n",
       "      <td>70.0</td>\n",
       "      <td>1.1</td>\n",
       "    </tr>\n",
       "    <tr>\n",
       "      <th>...</th>\n",
       "      <td>...</td>\n",
       "      <td>...</td>\n",
       "    </tr>\n",
       "    <tr>\n",
       "      <th>7291</th>\n",
       "      <td>70.0</td>\n",
       "      <td>0.7</td>\n",
       "    </tr>\n",
       "    <tr>\n",
       "      <th>7296</th>\n",
       "      <td>70.0</td>\n",
       "      <td>0.6</td>\n",
       "    </tr>\n",
       "    <tr>\n",
       "      <th>7299</th>\n",
       "      <td>70.0</td>\n",
       "      <td>0.5</td>\n",
       "    </tr>\n",
       "    <tr>\n",
       "      <th>7312</th>\n",
       "      <td>70.0</td>\n",
       "      <td>NaN</td>\n",
       "    </tr>\n",
       "    <tr>\n",
       "      <th>7340</th>\n",
       "      <td>70.0</td>\n",
       "      <td>-1.8</td>\n",
       "    </tr>\n",
       "  </tbody>\n",
       "</table>\n",
       "<p>1976 rows × 2 columns</p>\n",
       "</div>"
      ],
      "text/plain": [
       "      Wind Direction  Temperature Difference\n",
       "34              70.0                     1.1\n",
       "44              80.0                     1.0\n",
       "46              70.0                     1.6\n",
       "65              70.0                     1.0\n",
       "67              70.0                     1.1\n",
       "...              ...                     ...\n",
       "7291            70.0                     0.7\n",
       "7296            70.0                     0.6\n",
       "7299            70.0                     0.5\n",
       "7312            70.0                     NaN\n",
       "7340            70.0                    -1.8\n",
       "\n",
       "[1976 rows x 2 columns]"
      ]
     },
     "execution_count": 28,
     "metadata": {},
     "output_type": "execute_result"
    }
   ],
   "source": [
    "data[data['Wind Direction'].isin([70,80])].loc[:,['Wind Direction','Temperature Difference']]"
   ]
  },
  {
   "cell_type": "markdown",
   "metadata": {},
   "source": [
    "In this way, we can filter the data in a variety of ways so that we extract only the \n",
    "exact data that we want. Note that we also see that there are 1976 observations when the wind direction was exactly 70 or 80 degrees. \n",
    "\n",
    "There is a lot more that we can do with pandas Series and DataFrames. However, the tools covered in this lesson and the previous one should be enough to get you started doing many common data analysis tasks. "
   ]
  }
 ],
 "metadata": {
  "kernelspec": {
   "display_name": "Python 3",
   "language": "python",
   "name": "python3"
  },
  "language_info": {
   "codemirror_mode": {
    "name": "ipython",
    "version": 3
   },
   "file_extension": ".py",
   "mimetype": "text/x-python",
   "name": "python",
   "nbconvert_exporter": "python",
   "pygments_lexer": "ipython3",
   "version": "3.7.5"
  }
 },
 "nbformat": 4,
 "nbformat_minor": 4
}
