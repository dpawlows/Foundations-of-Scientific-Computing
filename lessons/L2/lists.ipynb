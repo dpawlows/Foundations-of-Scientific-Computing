{
 "cells": [
  {
   "cell_type": "markdown",
   "metadata": {},
   "source": [
    "Working with lists\n",
    "==================\n",
    "\n"
   ]
  },
  {
   "cell_type": "markdown",
   "metadata": {},
   "source": [
    "You should now have some experience working with the basic \n",
    "datatypes in python: strings, ints, floats, and (maybe to a \n",
    "lesser extent) booleans. All of these datatypes store *scalar* \n",
    "values, e.g. a single value. Of course, in physics, we often deal with \n",
    "quantities that are described by more than one variable. 3 dimensional Vectors are one example, but you could also think of a set of temperature measurements taken periodically throughout a day as another \n",
    "example. For these things, it makes sense to store the data describing \n",
    "them with a single variable. This is the purpose of a list in Python.\n"
   ]
  },
  {
   "cell_type": "code",
   "execution_count": 1,
   "metadata": {},
   "outputs": [
    {
     "name": "stdout",
     "output_type": "stream",
     "text": [
      "[100.0, 110.2, 115.4, 112.3, 111.8, 99.8]\n"
     ]
    }
   ],
   "source": [
    "temperature = [100.0,110.2,115.4,112.3,111.8,99.8]\n",
    "print(temperature)"
   ]
  },
  {
   "cell_type": "markdown",
   "metadata": {},
   "source": [
    "In python, lists are defined using square brackets `[]` and \n",
    "the elements of the list are separated by a comma. Python lists\n",
    "are highly generic. They can contain any other datatype and \n",
    "the datatypes within a single list don't have to be the same:"
   ]
  },
  {
   "cell_type": "code",
   "execution_count": 2,
   "metadata": {},
   "outputs": [
    {
     "name": "stdout",
     "output_type": "stream",
     "text": [
      "[50.2, 'Apples', 42, False]\n"
     ]
    }
   ],
   "source": [
    "myList = [50.2,'Apples',42,False]\n",
    "print(myList)"
   ]
  },
  {
   "cell_type": "markdown",
   "metadata": {},
   "source": [
    "Here we have a list that has 4 **elements**, each of a different data type. \n",
    "\n",
    "One or more elements of a list can even be another list:"
   ]
  },
  {
   "cell_type": "code",
   "execution_count": 3,
   "metadata": {},
   "outputs": [
    {
     "name": "stdout",
     "output_type": "stream",
     "text": [
      "[50.2, 'Apples', 42, False, [5, 4, 8, 10]]\n"
     ]
    }
   ],
   "source": [
    "myList = [50.2,'Apples',42,False,[5,4,8,10]]\n",
    "print(myList)"
   ]
  },
  {
   "cell_type": "markdown",
   "metadata": {},
   "source": [
    "Indexing a list\n",
    "---------------\n",
    "\n",
    "Once we have a list, it is almost always necessary to access a single \n",
    "value within the list. This is called **indexing** the list.\n"
   ]
  },
  {
   "cell_type": "code",
   "execution_count": 4,
   "metadata": {},
   "outputs": [
    {
     "name": "stdout",
     "output_type": "stream",
     "text": [
      "Apples\n"
     ]
    }
   ],
   "source": [
    "print(myList[1])"
   ]
  },
  {
   "cell_type": "markdown",
   "metadata": {},
   "source": [
    "The 1 in the above example is known as the index value. You can read the  above line of code as: \"Hey Python, please print the first element of the list called myList!\". \n",
    "\n",
    "Note that the result of that print statement was that the string \"Apples\" was printed to the screen, but the \"first\" element of MyList was the value 50.2. So what gives? As you are probably already aware, it is common in computer programming to start counting at zero!"
   ]
  },
  {
   "cell_type": "code",
   "execution_count": 5,
   "metadata": {},
   "outputs": [
    {
     "name": "stdout",
     "output_type": "stream",
     "text": [
      "50.2\n"
     ]
    }
   ],
   "source": [
    "print(myList[0])"
   ]
  },
  {
   "cell_type": "markdown",
   "metadata": {},
   "source": [
    "which gives us the expected result.\n",
    "\n",
    "#### Values vs. indicies\n",
    "\n",
    "Properly accessing the information stored in a list is one of the trickiest things to learn as a new programmer. So, it is important \n",
    "to understand the difference between the values stored in a list and the\n",
    "index used to access a certain value. \n",
    "\n",
    "Let's look at another example:\n"
   ]
  },
  {
   "cell_type": "code",
   "execution_count": 6,
   "metadata": {},
   "outputs": [],
   "source": [
    "fruit = ['banana','apple','pear','watermelon','peach','apricot']"
   ]
  },
  {
   "cell_type": "markdown",
   "metadata": {},
   "source": [
    "Here our list contains 6 elements. One common way to think about indexing this list is to think of an interaction with a fruit vending \n",
    "machine. Were to go to purchase a piece of fruit from such a machine, the machine might present you with a series of numbers that correspond to each of the fruit.\n",
    "````\n",
    "banana    apple    pear    watermelon    peach    apricot\n",
    "  0         1       2           3          4         5   \n",
    "````\n",
    "\n",
    "If you want to purchase the pear, you would select `2`. If you want the \n",
    "apricot, you would select `5`. You would never try to purchase the apple \n",
    "by selecting `apple`; such a button doesn't exist and the machine would be confused!\n",
    "\n",
    "The same goes for accessing elements of a list. You can assume that python has no idea what your list actually contains. So, if you try access the pear element of the list above using the following:"
   ]
  },
  {
   "cell_type": "code",
   "execution_count": 7,
   "metadata": {
    "tags": [
     "raises-exception"
    ]
   },
   "outputs": [
    {
     "ename": "TypeError",
     "evalue": "list indices must be integers or slices, not str",
     "output_type": "error",
     "traceback": [
      "\u001b[0;31m---------------------------------------------------------------------------\u001b[0m",
      "\u001b[0;31mTypeError\u001b[0m                                 Traceback (most recent call last)",
      "\u001b[0;32m<ipython-input-7-56936b90e740>\u001b[0m in \u001b[0;36m<module>\u001b[0;34m\u001b[0m\n\u001b[0;32m----> 1\u001b[0;31m \u001b[0mprint\u001b[0m\u001b[0;34m(\u001b[0m\u001b[0mfruit\u001b[0m\u001b[0;34m[\u001b[0m\u001b[0;34m'pear'\u001b[0m\u001b[0;34m]\u001b[0m\u001b[0;34m)\u001b[0m\u001b[0;34m\u001b[0m\u001b[0;34m\u001b[0m\u001b[0m\n\u001b[0m",
      "\u001b[0;31mTypeError\u001b[0m: list indices must be integers or slices, not str"
     ]
    }
   ],
   "source": [
    "print(fruit['pear'])"
   ]
  },
  {
   "cell_type": "markdown",
   "metadata": {},
   "source": [
    "python will throw a TypeError telling you that you can't do that.\n",
    "\n",
    "This all may be somewhat obvious, particularly when we use a list of \n",
    "strings as an example. But it is easy to forget the difference between list values and index values when working with numeric data, particularly if the data are integers:"
   ]
  },
  {
   "cell_type": "code",
   "execution_count": 8,
   "metadata": {},
   "outputs": [],
   "source": [
    "snowFall_cm = [1,0,0,4,7,5,8,0,0,4]"
   ]
  },
  {
   "cell_type": "markdown",
   "metadata": {},
   "source": [
    "If we want to access that \"7\", then we need to use the appropriate index value. Counting from the left, we see the \"7\" is the 4th value in the list. So, "
   ]
  },
  {
   "cell_type": "code",
   "execution_count": 9,
   "metadata": {},
   "outputs": [
    {
     "name": "stdout",
     "output_type": "stream",
     "text": [
      "7\n"
     ]
    }
   ],
   "source": [
    "print(snowFall_cm[4])"
   ]
  },
  {
   "cell_type": "markdown",
   "metadata": {},
   "source": [
    "gives us the expected value. Note that in this example to make things extra confusing, the 5th element of the list is also a 5. \n",
    "\n",
    "\n"
   ]
  },
  {
   "cell_type": "code",
   "execution_count": 10,
   "metadata": {},
   "outputs": [
    {
     "name": "stdout",
     "output_type": "stream",
     "text": [
      "5\n"
     ]
    }
   ],
   "source": [
    "print(snowFall_cm[5])"
   ]
  },
  {
   "cell_type": "markdown",
   "metadata": {},
   "source": [
    "Both are the number 5, but one is the index value 5 (5th element in the list) and one is the value 5 itself (5 cm of snowfall).\n",
    "\n",
    "Reverse Indexing\n",
    "----------------\n",
    "\n",
    "It is often useful to count from the end of a list instead of the beginning when indexing a list. Python accommodates this with the use of negative index values:"
   ]
  },
  {
   "cell_type": "code",
   "execution_count": 11,
   "metadata": {},
   "outputs": [
    {
     "name": "stdout",
     "output_type": "stream",
     "text": [
      "4\n"
     ]
    }
   ],
   "source": [
    "print(snowFall_cm[-1])"
   ]
  },
  {
   "cell_type": "markdown",
   "metadata": {},
   "source": [
    "There is no such thing as negative zero, so the first element starting from the end of the list is indexed with -1 and then index values decrease by one from there:"
   ]
  },
  {
   "cell_type": "code",
   "execution_count": 12,
   "metadata": {},
   "outputs": [
    {
     "name": "stdout",
     "output_type": "stream",
     "text": [
      "8\n"
     ]
    }
   ],
   "source": [
    "print(snowFall_cm[-4])"
   ]
  },
  {
   "cell_type": "markdown",
   "metadata": {},
   "source": [
    "Indexing a subset of a list\n",
    "---------------------------\n",
    "\n",
    "Python also makes it easy to access a subset of values from within a list using the colon:"
   ]
  },
  {
   "cell_type": "code",
   "execution_count": 13,
   "metadata": {},
   "outputs": [
    {
     "name": "stdout",
     "output_type": "stream",
     "text": [
      "[0, 4, 7, 5]\n"
     ]
    }
   ],
   "source": [
    "print(snowFall_cm[2:6])"
   ]
  },
  {
   "cell_type": "markdown",
   "metadata": {},
   "source": [
    "Here we are telling python to print from the 2nd to 5th elements of our list. Python's notation might seem a little weird here as you may have expected to see the 8 printed, which is the 6th element. Instead, you can think of this as asking python to print 6 - 2 = 4 elements, beginning with element 2. \n",
    "\n",
    "Note that we don't have to specify a second index to use the colon:"
   ]
  },
  {
   "cell_type": "code",
   "execution_count": 14,
   "metadata": {},
   "outputs": [
    {
     "name": "stdout",
     "output_type": "stream",
     "text": [
      "[7, 5, 8, 0, 0, 4]\n",
      "[1, 0, 0, 4, 7]\n"
     ]
    }
   ],
   "source": [
    "print(snowFall_cm[4:])\n",
    "print(snowFall_cm[:5])"
   ]
  },
  {
   "cell_type": "markdown",
   "metadata": {},
   "source": [
    "where in the first example we printed all elements starting at element 4 and after and in the second example we printed the first 5 elements of our list.\n",
    "\n",
    "<div class=\"alert alert-info\">\n",
    "\n",
    "**Note**\n",
    "\n",
    "The difference between list values and index values can't be stressed \n",
    "enough. Anytime we want to access an individual element of a list, we must use the **index** value, the value's position when counting from the beginning (or end if using negative values) of the list. \n",
    "    \n",
    "</div>\n",
    "\n",
    "List methods\n",
    "------------\n",
    "\n",
    "Let's wrap up by discussing a couple of methods that are used often with lists.\n",
    "\n",
    "#### Length of a list\n",
    "\n",
    "The `len()` function allows us to determime the number of elements\n",
    "in a list (note that it's a function, not a method of datatype list,\n",
    "because there are other datatypes that `len()` works with):\n"
   ]
  },
  {
   "cell_type": "code",
   "execution_count": 15,
   "metadata": {},
   "outputs": [
    {
     "name": "stdout",
     "output_type": "stream",
     "text": [
      "10\n"
     ]
    }
   ],
   "source": [
    "print(len(snowFall_cm))"
   ]
  },
  {
   "cell_type": "markdown",
   "metadata": {},
   "source": [
    "As expected, there are 10 items in our list.\n",
    "\n",
    "#### Adding to a list\n",
    "\n",
    "The `append()` method is used to add a value to a list that already exists:"
   ]
  },
  {
   "cell_type": "code",
   "execution_count": 16,
   "metadata": {},
   "outputs": [
    {
     "name": "stdout",
     "output_type": "stream",
     "text": [
      "[1, 0, 0, 4, 7, 5, 8, 0, 0, 4, 3]\n"
     ]
    }
   ],
   "source": [
    "snowFall_cm.append(3)\n",
    "print(snowFall_cm)"
   ]
  },
  {
   "cell_type": "markdown",
   "metadata": {},
   "source": [
    "as you can see, we've added the value '3' to our list and thus increased \n",
    "its length by 1. "
   ]
  },
  {
   "cell_type": "code",
   "execution_count": 17,
   "metadata": {},
   "outputs": [
    {
     "name": "stdout",
     "output_type": "stream",
     "text": [
      "11\n"
     ]
    }
   ],
   "source": [
    "print(len(snowFall_cm))"
   ]
  },
  {
   "cell_type": "markdown",
   "metadata": {},
   "source": [
    "#### Removing from a list\n",
    "\n",
    "We can also remove items from a list using the `pop()` method:"
   ]
  },
  {
   "cell_type": "code",
   "execution_count": 18,
   "metadata": {},
   "outputs": [
    {
     "data": {
      "text/plain": [
       "3"
      ]
     },
     "execution_count": 18,
     "metadata": {},
     "output_type": "execute_result"
    }
   ],
   "source": [
    "snowFall_cm.pop()"
   ]
  },
  {
   "cell_type": "markdown",
   "metadata": {},
   "source": [
    "will remove the last item of the list (and return that value). Alternatively, you can use `pop()` and specify the **index** that you want to remove:"
   ]
  },
  {
   "cell_type": "code",
   "execution_count": 19,
   "metadata": {},
   "outputs": [
    {
     "data": {
      "text/plain": [
       "8"
      ]
     },
     "execution_count": 19,
     "metadata": {},
     "output_type": "execute_result"
    }
   ],
   "source": [
    "snowFall_cm.pop(6)"
   ]
  },
  {
   "cell_type": "code",
   "execution_count": 20,
   "metadata": {},
   "outputs": [
    {
     "name": "stdout",
     "output_type": "stream",
     "text": [
      "[1, 0, 0, 4, 7, 5, 0, 0, 4]\n"
     ]
    }
   ],
   "source": [
    "print(snowFall_cm)"
   ]
  },
  {
   "cell_type": "markdown",
   "metadata": {},
   "source": [
    "#### Count occurrences within a list\n",
    "\n",
    "Finally, the `count()` method will add up all of the occurrences of a \n",
    "specific value within a list:"
   ]
  },
  {
   "cell_type": "code",
   "execution_count": 21,
   "metadata": {},
   "outputs": [
    {
     "name": "stdout",
     "output_type": "stream",
     "text": [
      "4\n"
     ]
    }
   ],
   "source": [
    "print(snowFall_cm.count(0))"
   ]
  },
  {
   "cell_type": "markdown",
   "metadata": {},
   "source": [
    "#### Final note\n",
    "\n",
    "The methods (and function) that we've discussed here is not at all exhaustive. There are many more ways that we can manipulate lists that haven't been discussed here. You will certainly learn other tools as you encounter them in the wild or learn them through searching the python documentation. "
   ]
  }
 ],
 "metadata": {
  "kernelspec": {
   "display_name": "Python 3",
   "language": "python",
   "name": "python3"
  },
  "language_info": {
   "codemirror_mode": {
    "name": "ipython",
    "version": 3
   },
   "file_extension": ".py",
   "mimetype": "text/x-python",
   "name": "python",
   "nbconvert_exporter": "python",
   "pygments_lexer": "ipython3",
   "version": "3.7.5"
  }
 },
 "nbformat": 4,
 "nbformat_minor": 4
}
