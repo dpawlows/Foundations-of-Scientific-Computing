{
 "cells": [
  {
   "cell_type": "markdown",
   "metadata": {},
   "source": [
    "Python loops\n",
    "============\n",
    "\n",
    "The real power behind computer programming is the ability to make the computer \n",
    "do repetative tasks. In python, we can do this using two tools: \n",
    "**for** and **while** loops. The general idea is: let's say we have a set of instructions that we want the computer to execute more than once. We can place \n",
    "those instructions inside a `for` or a `while` loop and the computer will \n",
    "execute the commands some set number of times.\n",
    "\n",
    "Before we work with some examples, it's important to grasp the difference between\n",
    "the two types of loops. A `for` loop executes the instructions a set number of \n",
    "times based on iterating over a sequence. A `while` loop will do the same thing \n",
    "execpt instead of iterating over a sequence, it will repeat execution of the \n",
    "instructions as long as a specific condition is met. \n",
    "\n",
    "For loops\n",
    "---------\n",
    "\n",
    "In python, the generic syntax of a for loop is:\n",
    "\n",
    "\n",
    "    for element in iterable:\n",
    "        instruction 1\n",
    "        instruction 2\n",
    "        instruction 3\n",
    "        etc...\n",
    "\n",
    "    continue program flow outside of for loop\n",
    "    \n",
    "\n",
    "\n",
    "Three important syntax things to note. First, the for loop definition (the first line) starts with the special word \"for\" and ends with a colon. Second, the \n",
    "instructions that we want to repeat begin after the definition line and are indented. Each instruction must be indented by the same number of spaces or tabs.\n",
    "Any code that goes back to the indentation level of the `for` definition itself \n",
    "will not be repeated by that loop. \n",
    "\n",
    "Iterables\n",
    "---------\n",
    "\n",
    "Finally, the `for` loop in python requires something called an iterable. \n",
    "Iterables are a class of variables that have a specific behavior: you can \n",
    "iterate over them. You've already met 2 examples of these: character strings and \n",
    "lists. Let's look at an example:\n"
   ]
  },
  {
   "cell_type": "code",
   "execution_count": 1,
   "metadata": {},
   "outputs": [],
   "source": [
    "monthsInYear = 'JFMAMJJASOND'"
   ]
  },
  {
   "cell_type": "markdown",
   "metadata": {},
   "source": [
    "For our purposes, an iterable will be something that you can move through in sequence or index."
   ]
  },
  {
   "cell_type": "code",
   "execution_count": 2,
   "metadata": {},
   "outputs": [
    {
     "name": "stdout",
     "output_type": "stream",
     "text": [
      "A\n"
     ]
    }
   ],
   "source": [
    "print(monthsInYear[3])"
   ]
  },
  {
   "cell_type": "markdown",
   "metadata": {},
   "source": [
    "Just like a list, I can index a string to pull a specific element or elements. \n",
    "This means that I can use a string in a `for` loop quite easily:"
   ]
  },
  {
   "cell_type": "code",
   "execution_count": 3,
   "metadata": {},
   "outputs": [
    {
     "name": "stdout",
     "output_type": "stream",
     "text": [
      "J\n",
      "F\n",
      "M\n",
      "A\n",
      "M\n",
      "J\n",
      "J\n",
      "A\n",
      "S\n",
      "O\n",
      "N\n",
      "D\n"
     ]
    }
   ],
   "source": [
    "for tempelement in monthsInYear:\n",
    "    print(tempelement)"
   ]
  },
  {
   "cell_type": "markdown",
   "metadata": {},
   "source": [
    "This simple for loop iterates over the variable `monthsInYear` and repeats the \n",
    "one line of instructions 12 times (1 loop for each element in the variable monthsInYear. Each time that the instructions are executed, the variable \n",
    "`tempelement` takes on a new value, determined by the next element in \n",
    "the iterable. So, the first time through the loop, the value of `tempelement` \n",
    "is the first letter of `monthsInYear`, or \"J\". The second time through the loop \n",
    "`tempelement` becomes \"F\" and so on. We know before we run this code that \n",
    "the instructions in the for loop will be executed a specific number of times \n",
    "equal to the number of elements in the variable `monthsInyear`. \n",
    "\n",
    "While looping over the elements of a string can be useful, for our purposes as physicists, more often we will iterate \n",
    "over the elements of a list, so let's do an example."
   ]
  },
  {
   "cell_type": "code",
   "execution_count": 11,
   "metadata": {},
   "outputs": [
    {
     "name": "stdout",
     "output_type": "stream",
     "text": [
      "5810.0\n",
      "6000.0\n",
      "17000.0\n",
      "20800.0\n",
      "43100.0\n",
      "67700.0\n",
      "114000.0\n",
      "187000.0\n",
      "280000.0\n",
      "431000.0\n"
     ]
    }
   ],
   "source": [
    "#Argon density (#/m3) in Mars's atmosphere as a function of altitude\n",
    "#from NASA's MAVEN orbiter\n",
    "arDensity = [5.81e+03, 6e+03, 1.7e+04, 2.08e+04, 4.31e+04, 6.77e+04, \\\n",
    "             1.14e+05, 1.87e+05, 2.8e+05, 4.31e+05]\n",
    "for dens in arDensity:\n",
    "    print(dens)"
   ]
  },
  {
   "cell_type": "markdown",
   "metadata": {},
   "source": [
    "Just like in the string example, each time through the list my temporary variable, `dens` in this case, takes on the \n",
    "value of one of the elements of my list. So, the syntax for the `for` loop is pretty straigtforward. The difficulty \n",
    "comes from knowing when to use the for loop and what instructions to include inside of it. Here we've just been doing \n",
    "some printing, but typically, we will want to execute more complex instructions. For example, maybe I \n",
    "would like to know the total argon column density, or to sum up all of the individual density measurements in our list: "
   ]
  },
  {
   "cell_type": "code",
   "execution_count": 5,
   "metadata": {},
   "outputs": [
    {
     "name": "stdout",
     "output_type": "stream",
     "text": [
      "1172410.0\n"
     ]
    }
   ],
   "source": [
    "totaldensity = 0.0\n",
    "for dens in arDensity:\n",
    "    totaldensity = totaldensity + dens\n",
    "print(totaldensity)"
   ]
  },
  {
   "cell_type": "markdown",
   "metadata": {},
   "source": [
    "Again, note how the print command is executed outside and after the `for` loop since the indentation of that line is the same as \n",
    "the actual `for` definition.\n",
    "\n",
    "For loops using a counter\n",
    "-------------------------\n",
    "\n",
    "Sometimes, we want the temporary variable in our `for` loop to be a counter (0,1,2,3,4...) instead of the actual elements of a list. \n",
    "Then, we can use the counter to index one or more lists and perform operations on them. For example, let's say that in addition \n",
    "to the argon density above I also knew the CO2 density."
   ]
  },
  {
   "cell_type": "code",
   "execution_count": 6,
   "metadata": {},
   "outputs": [],
   "source": [
    "co2Density = [2.5e+05,4.9e+05,9.06e+05,1.46e+06,2.71e+06,5.33e+06,9.5e+06,1.71e+07,2.83e+07,4.45e+07]"
   ]
  },
  {
   "cell_type": "markdown",
   "metadata": {},
   "source": [
    "Now, at each altitude point, I would like to know the sum of the \n",
    "two densities. This would be a little tricky using the notation above becuase I don't have a good way to store the elements \n",
    "of two lists in a temporary variable (e.g. `dens` above). But, since I know that both lists have the same number or elements \n",
    "and that elements of the same index value correspond to one another (they were taken at the same altitude) I can create a `for` loop using a counter, and then use the counter to index both lists simultaneously:"
   ]
  },
  {
   "cell_type": "code",
   "execution_count": 7,
   "metadata": {},
   "outputs": [
    {
     "name": "stdout",
     "output_type": "stream",
     "text": [
      "[255810.0, 496000.0, 923000.0, 1480800.0, 2753100.0, 5397700.0, 9614000.0, 17287000.0, 28580000.0, 44931000.0]\n"
     ]
    }
   ],
   "source": [
    "CO2_Ar_Density = []\n",
    "for i in range(len(arDensity)):\n",
    "    CO2_Ar_Density.append(arDensity[i] + co2Density[i])\n",
    "print(CO2_Ar_Density)"
   ]
  },
  {
   "cell_type": "markdown",
   "metadata": {},
   "source": [
    "Make sure you understand what is happening in this example as this sytnax is used often when working with data\n",
    "in the sciences. First, I created an empty list that would eventually store my Ar + CO2 sum, one element for each altitude level.\n",
    "Then, I created a `for` loop that uses a counter instead of the values of the \"arDensity\" list itself. I did that using the `range()` function. This function creates a list based on at least 1 argument, the number of elements in the list to be created. The \n",
    "result is a list that starts at zero and counts by 1 until it gets to the appropriate length:"
   ]
  },
  {
   "cell_type": "code",
   "execution_count": 8,
   "metadata": {},
   "outputs": [
    {
     "name": "stdout",
     "output_type": "stream",
     "text": [
      "0\n",
      "1\n",
      "2\n",
      "3\n",
      "4\n",
      "5\n",
      "6\n",
      "7\n",
      "8\n",
      "9\n"
     ]
    }
   ],
   "source": [
    "for x in range(len(arDensity)):\n",
    "    print(x)"
   ]
  },
  {
   "cell_type": "markdown",
   "metadata": {},
   "source": [
    "Finally, each time through the loop, I used my *counter* to index both \"arDensity\" and \"co2Density\" and add the indexed values \n",
    "together. Then the result is appended to the \"CO2_Ar_Density\" list. Again, this would have been tricky to do if I had used \n",
    "the first example of the `for` loop where I interated over the elements of the list itself. Using a counter is the best way to\n",
    "go when you need to index multiple lists that are correlated in some way.\n"
   ]
  },
  {
   "cell_type": "markdown",
   "metadata": {},
   "source": [
    "While loops\n",
    "-----------\n",
    "\n",
    "Where a `for` loop will loop over an iterable, the `while` loop will execute its instructions for as long as a \n",
    "*condition* is met. In general, a *condition* is anything that will evaluate to `True` or `False`. Let's look at an example:"
   ]
  },
  {
   "cell_type": "code",
   "execution_count": 9,
   "metadata": {},
   "outputs": [
    {
     "name": "stdout",
     "output_type": "stream",
     "text": [
      "5810.0\n",
      "6000.0\n",
      "17000.0\n",
      "20800.0\n",
      "43100.0\n",
      "67700.0\n",
      "114000.0\n",
      "187000.0\n",
      "280000.0\n",
      "431000.0\n"
     ]
    }
   ],
   "source": [
    "i = 0\n",
    "while i < 10:\n",
    "    print(arDensity[i])\n",
    "    i += 1"
   ]
  },
  {
   "cell_type": "markdown",
   "metadata": {},
   "source": [
    "The *condition* in our while statement is `i < 10`. As long as that evaluates to True, then the instructions in our \n",
    "loop will continue to be executed. In this example, I increment i by 1 each time through the loop (using `i += 1` which is a \n",
    "shortcut for `i = i + 1`), which means the loop's instructions will be executed 9 times since we stop when i = 10.\n",
    "\n",
    "Note that I did this exact same thing above using the `for` loop. It is often the case that you can perform the same \n",
    "task using either loop. However, the `while` loop can be particularly useful when you don't have an iterable \n",
    "that you are working with and instead, you are waiting for a particular value in your program to change in some way. One \n",
    "such example might be something like:"
   ]
  },
  {
   "cell_type": "code",
   "execution_count": null,
   "metadata": {},
   "outputs": [],
   "source": [
    "fileHeader = True\n",
    "while fileHeader:\n",
    "    data = file.readline()\n",
    "    print(data)\n",
    "    if data = \"#START\":\n",
    "        fileHeader = False\n",
    "        \n",
    "print(\"all done!\")"
   ]
  },
  {
   "cell_type": "markdown",
   "metadata": {},
   "source": [
    "This will not work as written without a lot of other information, and we haven't talked about the `if` statement yet, but \n",
    "this example isn't to difficult to understand. Here, we start `fileHeader` off as `True`, so the condition in the `while` statement will \n",
    "evaluate to `True` and the instructions inside the loop will be executed at least once. Then, we do some stuff with a file of some sort and print something. Next, we check to see if the `data` variable is storing the string \"#START\". If it isn't, then nothing \n",
    "changes and the instructions will be executed again as `fileHeader` will continue to have a value of `True`. \n",
    "\n",
    "The instructions in the loop will repeat until something in the file causes `data` to contain the string \"#START\". Then the instructions inside \n",
    "the `if` statement will be executed and `fileHeader` will be set to ``False``. The next time\n",
    "the `while` statement is evaluated, it will evaluate to False and the instructions inside the loop will be skipped. Program flow will continue to the instructions after the `while` loop and in this case a simple statement will be printed.\n",
    "\n",
    "The example above is a practical example that might be used to read data from a file (something you don't have to worry about \n",
    "for now). A simple example that behaves in the same way that you **can** execute might look like this:"
   ]
  },
  {
   "cell_type": "code",
   "execution_count": null,
   "metadata": {},
   "outputs": [],
   "source": [
    "found = False\n",
    "text = \"I'm like a snake that having swallowed its fill of goose eggs7 can no longer escape through the gaps in the cage.\"\n",
    "i = 0\n",
    "while not found:\n",
    "    if text[i] == \"7\":\n",
    "        found = True\n",
    "        separationPoint = i\n",
    "    \n",
    "    i += 1\n",
    "\n",
    "print(\"after the while loop is finished, the 7 has been extracted:\", text[0:separationPoint],text[separationPoint+1:])"
   ]
  },
  {
   "cell_type": "markdown",
   "metadata": {},
   "source": [
    "This code again uses an `if` statement (more on those in the next lesson) to catch some condition and flip a \n",
    "variable from `False` to `True`. Notice that I am using the `not` logical operator to basically say execute the following \n",
    "commands as long as `found` evaluates to **not** `True`. "
   ]
  },
  {
   "cell_type": "markdown",
   "metadata": {},
   "source": [
    "**A summary**\n",
    "\n",
    "In many cases, it is possible to use a `for` loop to accomplish the same thing as a `while` loop and vice versa. Generally,\n",
    "one form or another is more efficient to program and more efficient for the computer to execute. As a general rule,\n",
    "if you are working with iterables, the `for` loop may be the better option, and if you are not, then the `while` loop might \n",
    "be easier. Practicing with both will help you learn the situations when one option is preferred over another."
   ]
  },
  {
   "cell_type": "code",
   "execution_count": null,
   "metadata": {},
   "outputs": [],
   "source": []
  }
 ],
 "metadata": {
  "kernelspec": {
   "display_name": "Python 3",
   "language": "python",
   "name": "python3"
  },
  "language_info": {
   "codemirror_mode": {
    "name": "ipython",
    "version": 3
   },
   "file_extension": ".py",
   "mimetype": "text/x-python",
   "name": "python",
   "nbconvert_exporter": "python",
   "pygments_lexer": "ipython3",
   "version": "3.7.5"
  }
 },
 "nbformat": 4,
 "nbformat_minor": 4
}
