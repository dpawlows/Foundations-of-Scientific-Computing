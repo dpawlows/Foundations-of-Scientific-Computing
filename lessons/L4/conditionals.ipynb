{
 "cells": [
  {
   "cell_type": "markdown",
   "metadata": {},
   "source": [
    "Conditional Statements\n",
    "======================\n",
    "\n",
    "Now we will put boolean expressions and comparison and logical operators to use by forming \n",
    "complete conditional statements. The premise behind a conditional statement is we use \n",
    "these tools to change the behavior of our program based on whether or not a condition is met. There are \n",
    "two types of conditional statements: `if` statements and `while` loops. We've already discussed `while` loops \n",
    "in a previous lesson. Here we focus on `if` statements.\n",
    "\n",
    "The if statement\n",
    "----------------\n",
    "\n",
    "The syntax of an `if` statement looks like this:\n",
    "```\n",
    "if <boolean>:\n",
    "    <instructions>\n",
    "```\n",
    "\n",
    "    "
   ]
  },
  {
   "cell_type": "markdown",
   "metadata": {},
   "source": [
    "The statement will work as long as there is something that evaluates to a boolean following the `if`, followed by a colon. Then, just like when using loops, the instructions to be executed if the \n",
    "statement evaluates to `True` should all be indented. Once indentation stops, program flow returns to outside of \n",
    "the `if` statement and back of the main body of the code. Let's do an example."
   ]
  },
  {
   "cell_type": "code",
   "execution_count": 1,
   "metadata": {},
   "outputs": [
    {
     "name": "stdout",
     "output_type": "stream",
     "text": [
      "Result 1: 0.5, Result 2: -3.0\n"
     ]
    }
   ],
   "source": [
    "#Solve ax^2 + bx + c = 0 for x\n",
    "a = 2\n",
    "b = 5 \n",
    "c = -3\n",
    "\n",
    "if (b**2 - 4 * a * c) > 0:\n",
    "    result1 = (-b + (b**2 - 4 * a * c)**(1/2))/(2*a) ##remember, ** is the exponent operator\n",
    "    result2 = (-b - (b**2 - 4 * a * c)**(1/2))/(2*a)\n",
    "\n",
    "print(\"Result 1: {}, Result 2: {}\".format(result1,result2))"
   ]
  },
  {
   "cell_type": "markdown",
   "metadata": {},
   "source": [
    "Again, the instructions after the `if` statement are only executed if the expression `b**2 - 4 * a * c` \n",
    "evaluates to `True`. If it doesn't, then program execution skips those instructions and proceeds to the \n",
    "line that is indented at the same level as the `if` statement. \n",
    "\n",
    "Note that we can do things like nest an `if` statement in a for loop:"
   ]
  },
  {
   "cell_type": "code",
   "execution_count": 2,
   "metadata": {},
   "outputs": [
    {
     "name": "stdout",
     "output_type": "stream",
     "text": [
      "4\n"
     ]
    }
   ],
   "source": [
    "myText = \"Time altitude latitude longitude density\"\n",
    "i = 0\n",
    "for word in myText.split():\n",
    "    if word == \"density\":\n",
    "        densityColumn = i\n",
    "    i += 1\n",
    "\n",
    "print(densityColumn)"
   ]
  },
  {
   "cell_type": "markdown",
   "metadata": {},
   "source": [
    "This example splits a text string and searches the resulting list for the word \"density\", then returns its position, in this case 4 (starting from 0). Note the `i += 1` line here. Since that line is \n",
    "indented at the same level as the `if` statement, it is not part of the `if` instructions. That line \n",
    "is executed every time the program flow passess through the `for` loop instructions. Only if \n",
    "the value of `word` is \"density\" do the instructions inside the `if` statement get executed.\n",
    "\n",
    "The else clause\n",
    "---------------\n",
    "\n",
    "If statements allow us to make our programs do something if some condition is true. But what if \n",
    "we want to do one thing if our condition is true, but do something else if the condition is \n",
    "false? That's the purpose of the `else` clause. Let's modify the quadratic example from above to see\n",
    "how this works."
   ]
  },
  {
   "cell_type": "code",
   "execution_count": 3,
   "metadata": {},
   "outputs": [
    {
     "name": "stdout",
     "output_type": "stream",
     "text": [
      "The result is complex!\n",
      "Result 1: -1.0 + 3.0i, Result 2: -1.0 - 3.0i\n"
     ]
    }
   ],
   "source": [
    "#Solve ax^2 + bx + c = 0 for x\n",
    "a = 1\n",
    "b = 2\n",
    "c = 10\n",
    "\n",
    "discriminant = b**2 - 4 * a * c \n",
    "if discriminant > 0:\n",
    "    result1 = (-b + (discriminant)**(1/2))/(2*a) ##remember, ** is the exponent operator\n",
    "    result2 = (-b - (discriminant)**(1/2))/(2*a)\n",
    "else: \n",
    "    print(\"The result is complex!\")\n",
    "    realpart = -b/(2*a)\n",
    "    imagpart = (-discriminant)**(1/2)/(2*a)\n",
    "\n",
    "    result1 = \"{} + {}i\".format(realpart,imagpart)\n",
    "    result2 = \"{} - {}i\".format(realpart,imagpart)\n",
    "    \n",
    "    \n",
    "print(\"Result 1: {}, Result 2: {}\".format(result1,result2))"
   ]
  },
  {
   "cell_type": "markdown",
   "metadata": {},
   "source": [
    "The important thing is that it isn't possible for both sets of instructions to be executed. Either the \n",
    "discrimiant is greater than 0 and the first set is executed or it isn't and the second set is executed.\n",
    "The if-else statement makes it possible to have 2 separate branches of program flow. When the program \n",
    "runs, exactly one branch of instructions will be executed while the other will not.\n",
    "\n",
    "One more thing to note, as we've seen it is possible to use an `if` statement without the `else` clause, but it isn't \n",
    "possible to use the `else` clause with out the initial `if` statement.\n",
    "\n",
    "\n",
    "\n",
    "The elif clause\n",
    "---------------\n",
    "\n",
    "In python, `elif` is shorthand for \"else if\". Maybe your test is more complex than simply true or false. Maybe there are more than two branches that \n",
    "you want to choose depending on what your program is doing. In the density example above, our text list \n",
    "had 5 words in it, but we only extracted information about a single one. What if we wanted to \n",
    "know the position of \"time\" and \"altitude\" as well? That means we need three branches!\n",
    "The elif clause allows us to do exactly that."
   ]
  },
  {
   "cell_type": "code",
   "execution_count": 4,
   "metadata": {},
   "outputs": [
    {
     "name": "stdout",
     "output_type": "stream",
     "text": [
      "4 0 1\n"
     ]
    }
   ],
   "source": [
    "myText = \"Time altitude latitude longitude density\"\n",
    "i = 0\n",
    "for word in myText.split():\n",
    "    if word == \"density\":\n",
    "        densityColumn = i\n",
    "    elif word == \"Time\":\n",
    "        timeColumn = i\n",
    "    elif word == \"altitude\":\n",
    "        altitudeColumn = i\n",
    "    i += 1\n",
    "\n",
    "print(densityColumn, timeColumn, altitudeColumn)"
   ]
  },
  {
   "cell_type": "markdown",
   "metadata": {},
   "source": [
    "We can use as many `elif` clauses as we want. But, we are limited to 1 `if` clause (it must be the first branch) and 1 `else` clause (if used, it must be the last branch). Also, each condition is checked in order. \n",
    "Once one of the conditions is met, the corresponding branch is executed and then the entire statement \n",
    "ends. So, if more than one condition is true, only the branch corresponding to the first one will be \n",
    "executed.\n",
    "\n"
   ]
  }
 ],
 "metadata": {
  "kernelspec": {
   "display_name": "Python 3",
   "language": "python",
   "name": "python3"
  },
  "language_info": {
   "codemirror_mode": {
    "name": "ipython",
    "version": 3
   },
   "file_extension": ".py",
   "mimetype": "text/x-python",
   "name": "python",
   "nbconvert_exporter": "python",
   "pygments_lexer": "ipython3",
   "version": "3.7.5"
  }
 },
 "nbformat": 4,
 "nbformat_minor": 4
}
