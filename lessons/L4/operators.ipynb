{
 "cells": [
  {
   "cell_type": "markdown",
   "metadata": {},
   "source": [
    "Comparison and Boolean Operators\n",
    "=================================\n",
    "\n",
    "Programming gets interesting when we add the ability to test different conditions and \n",
    "change the behavior of a program based on the result. Conditional and Boolean \n",
    "operations allow us to do this. In previous lessons, we've already touched on Boolean \n",
    "data types as well as simple conditional statements. Here we will go into a little more detail.\n",
    "\n",
    "Boolean values and expressions; comparison operators\n",
    "-------------------------------------------------------\n",
    "\n",
    "In python, there are two Boolean values: `True` and `False`:"
   ]
  },
  {
   "cell_type": "code",
   "execution_count": 11,
   "metadata": {},
   "outputs": [
    {
     "name": "stdout",
     "output_type": "stream",
     "text": [
      "<class 'bool'>\n"
     ]
    }
   ],
   "source": [
    "print(type(True))"
   ]
  },
  {
   "cell_type": "markdown",
   "metadata": {},
   "source": [
    "and yes, the first letter must be capitalized. We can use boolean expressions to make a test or \n",
    "compare two values. The result of a boolean expression is either `True` or `False`. For example,"
   ]
  },
  {
   "cell_type": "code",
   "execution_count": 12,
   "metadata": {},
   "outputs": [
    {
     "name": "stdout",
     "output_type": "stream",
     "text": [
      "False\n"
     ]
    }
   ],
   "source": [
    "a = 8\n",
    "b = 3\n",
    "print(a == b)"
   ]
  },
  {
   "cell_type": "code",
   "execution_count": 13,
   "metadata": {},
   "outputs": [
    {
     "name": "stdout",
     "output_type": "stream",
     "text": [
      "True\n"
     ]
    }
   ],
   "source": [
    "print(a+b == 11)"
   ]
  },
  {
   "cell_type": "code",
   "execution_count": 14,
   "metadata": {},
   "outputs": [
    {
     "name": "stdout",
     "output_type": "stream",
     "text": [
      "True\n"
     ]
    }
   ],
   "source": [
    "print(a-b < 6)"
   ]
  },
  {
   "cell_type": "markdown",
   "metadata": {},
   "source": [
    "As demonstrated above, a boolean expression must consist of 2 or more values to be compared along with \n",
    "a comparison operator. There are six common comparison operators, most of which are intuitive.\n",
    "\n",
    "| Operator | Description | Example |\n",
    "|-------|----------|-----------|\n",
    "| == | Equal to | a == b |\n",
    "| != | Not equal to | a != b |\n",
    "| < | Less than | a < b |\n",
    "| > | Greater than | a > b |\n",
    "| <= | Less than or equal to | a <= b |\n",
    "| >= | Greater than or equal to | a >= b|"
   ]
  },
  {
   "cell_type": "markdown",
   "metadata": {},
   "source": [
    "Why two symbols when performing an equal to comparison? Because `=` is already being used as an assignment \n",
    "operator, e.g. `a = 10` assigns the value `10` to the variable `a`. \n",
    "\n",
    "Logical operators\n",
    "-----------------\n",
    "\n",
    "In addition to comparing two or more values to one another when performing a test, we might want \n",
    "to perform multiple comparisons simultaneously. This can be done using one of python's three logical operators: `and`, `or`, and `not`. These mean essentially the same thing in python as they do in \n",
    "English. For example:"
   ]
  },
  {
   "cell_type": "code",
   "execution_count": 15,
   "metadata": {},
   "outputs": [
    {
     "name": "stdout",
     "output_type": "stream",
     "text": [
      "True\n"
     ]
    }
   ],
   "source": [
    "print(a == 8 and b == 3)"
   ]
  },
  {
   "cell_type": "markdown",
   "metadata": {},
   "source": [
    "Here we have a boolean expression where two comparisons are made. The expression evaluates to `True` \n",
    "only if both `a` is equal to 8 **and** `b` is equal to 3. Another example:"
   ]
  },
  {
   "cell_type": "code",
   "execution_count": 16,
   "metadata": {},
   "outputs": [
    {
     "name": "stdout",
     "output_type": "stream",
     "text": [
      "False\n"
     ]
    }
   ],
   "source": [
    "print(a+b > 15 and b < 5)"
   ]
  },
  {
   "cell_type": "markdown",
   "metadata": {},
   "source": [
    "While `b` is less than 5, `a+b` is not greater than 15, so this evaluates to `False`. \n",
    "\n",
    "Where the `and` operator will only evaluate to `True` if all comparisons are individually \n",
    "true, the `or` operator \n",
    "will evaluate to `True` if any of the individual comparisons are individually true:"
   ]
  },
  {
   "cell_type": "code",
   "execution_count": 17,
   "metadata": {},
   "outputs": [
    {
     "name": "stdout",
     "output_type": "stream",
     "text": [
      "True\n"
     ]
    }
   ],
   "source": [
    "print(a+b > 15 or b < 5)"
   ]
  },
  {
   "cell_type": "markdown",
   "metadata": {},
   "source": [
    "Finally, the `not` operator evaluates to `True` when the result of a boolean expression is `False`. In other\n",
    "words, it flips the expected result of a boolean expression:"
   ]
  },
  {
   "cell_type": "code",
   "execution_count": 18,
   "metadata": {},
   "outputs": [
    {
     "name": "stdout",
     "output_type": "stream",
     "text": [
      "False\n"
     ]
    }
   ],
   "source": [
    "print(not a == 8)"
   ]
  }
 ],
 "metadata": {
  "kernelspec": {
   "display_name": "Python 3",
   "language": "python",
   "name": "python3"
  },
  "language_info": {
   "codemirror_mode": {
    "name": "ipython",
    "version": 3
   },
   "file_extension": ".py",
   "mimetype": "text/x-python",
   "name": "python",
   "nbconvert_exporter": "python",
   "pygments_lexer": "ipython3",
   "version": "3.7.4"
  }
 },
 "nbformat": 4,
 "nbformat_minor": 4
}
