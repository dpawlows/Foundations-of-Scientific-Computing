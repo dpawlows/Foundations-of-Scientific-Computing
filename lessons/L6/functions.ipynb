{
 "cells": [
  {
   "cell_type": "markdown",
   "metadata": {},
   "source": [
    "Functions\n",
    "=========\n",
    "\n",
    "We've been working with functions in python since lesson 1. Throughout this course, you've had to use \n",
    "a variety of functions to do things like type conversion, create iterables, print information to the \n",
    "screen, etc. Here, we will look a little more deeply into what is happening when you use a function and also learn\n",
    "how to create our own functions.\n",
    "\n",
    "Three main concepts\n",
    "-------------------\n",
    "\n",
    "Simply put, functions are a subset of code that has been isolated from a main program, presumably, because that \n",
    "code will be called multiple times throughout the main program. Take the `print()` function as an example. When you use this function, there is actually quite a bit going on behind the sceens to make it so that the information \n",
    "that you want to be printed is in fact printed. Because this is such a common thing to do in programming,\n",
    "there is a built-in function to make it as easy as possible. \n",
    "\n",
    "There are three main concepts that I want you to understand regarding functions: function arguments, return \n",
    "values, and variable scope.\n",
    "\n",
    "### Arguments\n",
    "When we are using a function (which is called \"calling a function\"), often, we have to provide that function\n",
    "some information so that it can do its job. The information that we send into the function from the calling program\n",
    "are called arguments. We can use the `print()` function as an example:\n",
    "\n"
   ]
  },
  {
   "cell_type": "code",
   "execution_count": 10,
   "metadata": {},
   "outputs": [
    {
     "name": "stdout",
     "output_type": "stream",
     "text": [
      "Hello world!\n"
     ]
    }
   ],
   "source": [
    "print(\"Hello world!\")"
   ]
  },
  {
   "cell_type": "markdown",
   "metadata": {},
   "source": [
    "The arguement that we passed to the `print()` function is the string \"Hello world!\", and `print()` used that information to send a message to the screen. Many (most?) functions can take more than one argument and each \n",
    "argument must be separated by a comma."
   ]
  },
  {
   "cell_type": "code",
   "execution_count": 11,
   "metadata": {},
   "outputs": [
    {
     "name": "stdout",
     "output_type": "stream",
     "text": [
      "The result of 10+6 is 16\n"
     ]
    }
   ],
   "source": [
    "print(\"The result of 10+6 is\",10+6)"
   ]
  },
  {
   "cell_type": "markdown",
   "metadata": {},
   "source": [
    "Here, two arguments were passed to the print function but we could do more if we wanted to. The number \n",
    "of arguments passed to a function (and their data type) depend on the function itself, so you have \n",
    "to know what a function is doing and some basic information about it to be able to use it properly. \n",
    "\n",
    "Let's take a look at a different function to see what can go wrong if we use a function somewhat \n",
    "naively. Let's say we wanted to convert 2 floats to integers with a single call to the `int()` function:"
   ]
  },
  {
   "cell_type": "code",
   "execution_count": 12,
   "metadata": {},
   "outputs": [
    {
     "ename": "TypeError",
     "evalue": "'float' object cannot be interpreted as an integer",
     "output_type": "error",
     "traceback": [
      "\u001b[0;31m-------------------------------------------------------------------\u001b[0m",
      "\u001b[0;31mTypeError\u001b[0m                         Traceback (most recent call last)",
      "\u001b[0;32m<ipython-input-12-808ff9ffe901>\u001b[0m in \u001b[0;36m<module>\u001b[0;34m\u001b[0m\n\u001b[0;32m----> 1\u001b[0;31m \u001b[0mint\u001b[0m\u001b[0;34m(\u001b[0m\u001b[0;36m5.6\u001b[0m\u001b[0;34m,\u001b[0m\u001b[0;36m10.2\u001b[0m\u001b[0;34m)\u001b[0m\u001b[0;34m\u001b[0m\u001b[0;34m\u001b[0m\u001b[0m\n\u001b[0m",
      "\u001b[0;31mTypeError\u001b[0m: 'float' object cannot be interpreted as an integer"
     ]
    }
   ],
   "source": [
    "int(5.6,10.2)"
   ]
  },
  {
   "cell_type": "markdown",
   "metadata": {},
   "source": [
    "This action will result in an error being thrown not because int can't handle multiple arguments, but rather, \n",
    "it is expecting something different for the second arguement. Specifically, `int()` expects to receive \n",
    "0 or 1 *positional* arguments and 0 or 1 *keyword* arguments. Positional arguements are all of those that we've used \n",
    "so far in this course. The are a single object or single variable. They work with functions because the function will use the argument's position to determine how to use it. Keyword arguments, on the otherhand, are specified \n",
    "with a specific function dependent keyword. An example:"
   ]
  },
  {
   "cell_type": "code",
   "execution_count": 13,
   "metadata": {},
   "outputs": [
    {
     "data": {
      "text/plain": [
       "10"
      ]
     },
     "execution_count": 13,
     "metadata": {},
     "output_type": "execute_result"
    }
   ],
   "source": [
    "int('0b1010',base=2)"
   ]
  },
  {
   "cell_type": "markdown",
   "metadata": {},
   "source": [
    "In this example, I'm converting a binary number, '0b1010', into decimal (base 10). I had to tell python that \n",
    "'0b1010' is infact a binary number using the keyword argument \"base=2\". Here '0b1010' is a positional argument (in the 0th position) and base=0 is a keyword argument. In the guts of the `int()` function definition, down in the bowels of the basic functionality of python, there is some code that looks for the keyword \"base\" and if it sees that word in the function definition, it assigns the value that comes after the equal sign to the variable called \"base\" in the definition itself. Since python is watching for a specific keyword, functions that have multiple keywords defined can have keyword arguments passed in any order. We'll revisit this concept shortly.\n",
    "\n",
    "If this all is a bit confusing, that's ok. We'll see some more examples as we learn how to create our own functions below. For now, know that when we call a function, we generally need to pass arguments to it so it can complete its job. Note that many functions don't require any arguments to work! `exit()` and `pdb.set_trace()` are two examples that you may have seen before.\n",
    "\n",
    "### Return values\n",
    "When a function get's called and does it job, it usually has to send information back to the calling program. \n",
    "Whereas an argument enables us to pass information from the main program to the function, a return value is \n",
    "the mechanism for getting information from the function back to the main program. Again, `int()` provides a good \n",
    "example:\n"
   ]
  },
  {
   "cell_type": "code",
   "execution_count": 14,
   "metadata": {},
   "outputs": [
    {
     "data": {
      "text/plain": [
       "20"
      ]
     },
     "execution_count": 14,
     "metadata": {},
     "output_type": "execute_result"
    }
   ],
   "source": [
    "int(20.2)"
   ]
  },
  {
   "cell_type": "markdown",
   "metadata": {},
   "source": [
    "The argument that we passed was the value 20.2, but the *return value* was 20. Generally, functions will \n",
    "only return a single object, but note that a single object is **not** a single object:"
   ]
  },
  {
   "cell_type": "code",
   "execution_count": 15,
   "metadata": {},
   "outputs": [
    {
     "name": "stdout",
     "output_type": "stream",
     "text": [
      "[0 1 2 3 4 5 6 7 8 9]\n"
     ]
    }
   ],
   "source": [
    "import numpy as np\n",
    "print(np.arange(10))"
   ]
  },
  {
   "cell_type": "markdown",
   "metadata": {},
   "source": [
    "Here I'm using the `arange()` function that is part of the `numpy` module to create a list of 10 integers. `arange()` only returned a single *object*, a single list. But that list can certainly \n",
    "contain many individual values. You will see this behavior a lot in python. Often, a function will return a list \n",
    "with several values, or a dictionary with several key:value pairs.\n",
    "\n",
    "### Scope \n",
    "Let's say that you create a variable to store some data, and you want to pass that data into a function and to do something with it:\n",
    "\n"
   ]
  },
  {
   "cell_type": "code",
   "execution_count": 16,
   "metadata": {},
   "outputs": [],
   "source": [
    "temperature = 100.5\n",
    "intTemperature = int(temperature)"
   ]
  },
  {
   "cell_type": "markdown",
   "metadata": {},
   "source": [
    "Again, when I call `int()`, program flow goes into that function and the lines of code that make up that \n",
    "function are executed like they would be if they were part of the main program. The question is what am I passing \n",
    "to the function? Does `int()` know about the variable \"temperature\" or does it just know the value \n",
    "of the temperature value, 100.5? The answer is the latter. Inside the function itself, `int()` doesn't \n",
    "know anything about a variable called `temperature`. `int()` will store the value that we pass in,\n",
    "in this case 100.5, in some new variable and use that to perform whatever instructions are in that \n",
    "code. In otherwords, the variable `temperature` doesn't have *scope* inside the `int()` function.\n",
    "Let's say that inside `int()`, the value that we pass in to be converted is called `tempvariable`. That \n",
    "variable has no scope outside of `int()`. If I tried to access `tempvariable` in the main program (by printing it, or doing so math \n",
    "with it) I would get an error. The main program has no idea that that variable even exists.\n",
    "\n",
    "The concept of scope is included here as its an important concept to understand when dealing with functions, but the concept itself is a little easier to understand when we start to define our own functions.\n",
    "\n",
    "**Disclaimer**\n",
    "\n",
    "Python is a little bit lazy with scope in one direction. In the above paragraph I said that the `temperature` variable doesn't have scope inside a function for which it is an arguement. This isn't strictly true. If you \n",
    "define `temperature` in a main program before a function is *defined*, and then you try to use `temperature` in that function, it will still have scope inside the function. I only mention this to be completely accurate. But, I think it is better to treat it as if it did not have scope there, as this is typical behavior in other programming languages. Again, examples will be presented in the lesson on user defined functions."
   ]
  }
 ],
 "metadata": {
  "kernelspec": {
   "display_name": "Python 3",
   "language": "python",
   "name": "python3"
  },
  "language_info": {
   "codemirror_mode": {
    "name": "ipython",
    "version": 3
   },
   "file_extension": ".py",
   "mimetype": "text/x-python",
   "name": "python",
   "nbconvert_exporter": "python",
   "pygments_lexer": "ipython3",
   "version": "3.7.5"
  }
 },
 "nbformat": 4,
 "nbformat_minor": 4
}
