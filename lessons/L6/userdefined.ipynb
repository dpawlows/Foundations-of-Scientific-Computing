{
 "cells": [
  {
   "cell_type": "markdown",
   "metadata": {},
   "source": [
    "User defined functions\n",
    "======================\n",
    "\n",
    "Defining our own functions in python is simple. Like loops and if-else statements, one line is \n",
    "reserved for the definition and then all of the instructions that need to be included with the function \n",
    "are indented one level from the function definition. The function definition ends when indentation returns \n",
    "to the previous level. Also, function definitions should include a `return` statement. A simple example:"
   ]
  },
  {
   "cell_type": "code",
   "execution_count": 1,
   "metadata": {},
   "outputs": [],
   "source": [
    "def addone(a):\n",
    "    return(a+1)"
   ]
  },
  {
   "cell_type": "markdown",
   "metadata": {},
   "source": [
    "`addone()` is a function that takes 1 argument and then returns a single value. Inside the function definition, \n",
    "whatever value that we passed via the argument gets stored inside the function using the variable `a`. Remember scope? `a` only has scope inside of the function:"
   ]
  },
  {
   "cell_type": "code",
   "execution_count": 2,
   "metadata": {},
   "outputs": [
    {
     "ename": "NameError",
     "evalue": "name 'a' is not defined",
     "output_type": "error",
     "traceback": [
      "\u001b[0;31m-------------------------------------------------------------------\u001b[0m",
      "\u001b[0;31mNameError\u001b[0m                         Traceback (most recent call last)",
      "\u001b[0;32m<ipython-input-2-bca0e2660b9f>\u001b[0m in \u001b[0;36m<module>\u001b[0;34m\u001b[0m\n\u001b[0;32m----> 1\u001b[0;31m \u001b[0mprint\u001b[0m\u001b[0;34m(\u001b[0m\u001b[0ma\u001b[0m\u001b[0;34m)\u001b[0m\u001b[0;34m\u001b[0m\u001b[0;34m\u001b[0m\u001b[0m\n\u001b[0m",
      "\u001b[0;31mNameError\u001b[0m: name 'a' is not defined"
     ]
    }
   ],
   "source": [
    "print(a)"
   ]
  },
  {
   "cell_type": "markdown",
   "metadata": {},
   "source": [
    "I can use this function by defining a variable in the main program:"
   ]
  },
  {
   "cell_type": "code",
   "execution_count": 3,
   "metadata": {},
   "outputs": [
    {
     "name": "stdout",
     "output_type": "stream",
     "text": [
      "16\n"
     ]
    }
   ],
   "source": [
    "mynumber = 15\n",
    "mynewnumber = addone(mynumber)\n",
    "print(mynewnumber)\n"
   ]
  },
  {
   "cell_type": "markdown",
   "metadata": {},
   "source": [
    "To restate, defining our own functions allows us to reuse code in several different locations in our programs."
   ]
  },
  {
   "cell_type": "code",
   "execution_count": 4,
   "metadata": {},
   "outputs": [
    {
     "name": "stdout",
     "output_type": "stream",
     "text": [
      "10523\n"
     ]
    }
   ],
   "source": [
    "anothernumber = 10522\n",
    "anothernewnumber = addone(anothernumber)\n",
    "print(anothernewnumber)"
   ]
  },
  {
   "cell_type": "markdown",
   "metadata": {},
   "source": [
    "As was mentioned in the previous part of the lesson, python is a little weird regarding scope inside a function. \n",
    "For example, in other languages, trying to print a variable that is defined outside a function would \n",
    "result in an error. Here it doesn't:"
   ]
  },
  {
   "cell_type": "code",
   "execution_count": 5,
   "metadata": {},
   "outputs": [
    {
     "name": "stdout",
     "output_type": "stream",
     "text": [
      "59\n",
      "61\n"
     ]
    }
   ],
   "source": [
    "def addtwo(b):\n",
    "    print(number3)\n",
    "    return(b+2)\n",
    "\n",
    "number3 = 59\n",
    "newnumber3 = addtwo(number3)\n",
    "print(newnumber3)\n"
   ]
  },
  {
   "cell_type": "markdown",
   "metadata": {},
   "source": [
    "In this example, the variable `b` has taken on the value of `number3` since `number3` was passed as an \n",
    "argument when I called the `addtwo()` function. So, I shouldn't try to use `number3` inside the function \n",
    "definition. Still, Python allows it. This all works because if you use the same variable inside a function as you use outside a function, even though they have the same name, they are physically different variables:"
   ]
  },
  {
   "cell_type": "code",
   "execution_count": 6,
   "metadata": {},
   "outputs": [
    {
     "name": "stdout",
     "output_type": "stream",
     "text": [
      "number3 inside function: {} 50\n",
      "number3 outside function: {} 59\n"
     ]
    }
   ],
   "source": [
    "def addtwo(b):\n",
    "    number3 = 50\n",
    "    print(\"number3 inside function: {}\",number3)\n",
    "    return(b+2)\n",
    "\n",
    "number3 = 59\n",
    "newnumber3 = addtwo(number3)\n",
    "print(\"number3 outside function: {}\",number3)"
   ]
  },
  {
   "cell_type": "markdown",
   "metadata": {},
   "source": [
    "Again, we have 2 `number3` variables. But they are really two different variables (physically, they point to two different places in the computer's memory). One has scope inside the function definition, one has scope outside. If you think about it, this behavior makes sense. There are countless functions that we might use. It would be extrememly prohibitive if we were unable to use variable names that were defined inside those functions.\n",
    "\n",
    "I mentioned at the top that functions should return a value. This isn't a strict rule:"
   ]
  },
  {
   "cell_type": "code",
   "execution_count": 7,
   "metadata": {},
   "outputs": [
    {
     "name": "stdout",
     "output_type": "stream",
     "text": [
      "Tacos really are the perfect food.\n"
     ]
    }
   ],
   "source": [
    "def printmessage(message):\n",
    "    print(message)\n",
    "    \n",
    "printmessage(\"Tacos really are the perfect food.\")"
   ]
  },
  {
   "cell_type": "markdown",
   "metadata": {},
   "source": [
    "My function doesn't return anything, but it still does something. Return statements are necessary for \n",
    "getting information out of a function. If your function doesn't have to give any information back, then \n",
    "you don't necessarily need one. However, many people would argue that it is good practice to always include a return value. So, you might do (or see) something like this:"
   ]
  },
  {
   "cell_type": "code",
   "execution_count": 8,
   "metadata": {},
   "outputs": [
    {
     "name": "stdout",
     "output_type": "stream",
     "text": [
      "Just like pizza.\n"
     ]
    },
    {
     "data": {
      "text/plain": [
       "0"
      ]
     },
     "execution_count": 8,
     "metadata": {},
     "output_type": "execute_result"
    }
   ],
   "source": [
    "def printmessage(message):\n",
    "    print(message)\n",
    "    return 0\n",
    "\n",
    "printmessage(\"Just like pizza.\")"
   ]
  },
  {
   "cell_type": "markdown",
   "metadata": {},
   "source": [
    "A value of zero basically means \"no error\". So, doing this is a way to help handle errors that \n",
    "crop up in your program. Maybe if something goes wrong with the message, your function would return a value of 1, which would trigger a message to the user or something like that.\n",
    "\n",
    "Functions with multiple arguments\n",
    "---------------------------------\n",
    "\n",
    "Including more than one argument is easy. Simple add commas:\n"
   ]
  },
  {
   "cell_type": "code",
   "execution_count": 9,
   "metadata": {},
   "outputs": [
    {
     "name": "stdout",
     "output_type": "stream",
     "text": [
      "19\n"
     ]
    }
   ],
   "source": [
    "def addtwonumbers(a,b):\n",
    "    return(a+b)\n",
    "\n",
    "num1 = 6\n",
    "num2 = 13\n",
    "print(addtwonumbers(num1,num2))"
   ]
  },
  {
   "cell_type": "markdown",
   "metadata": {},
   "source": [
    "In this case, `a` and `b` are positional arguments. `a` gets the first value that is passed in the function call while `b` gets the second value. So what about keyword arguments? Those are pretty easy too:"
   ]
  },
  {
   "cell_type": "code",
   "execution_count": 10,
   "metadata": {},
   "outputs": [
    {
     "name": "stdout",
     "output_type": "stream",
     "text": [
      "20\n",
      "-4\n",
      "20\n"
     ]
    }
   ],
   "source": [
    "def twonumbermath(a,b,operation='plus'):\n",
    "    if operation == 'plus':\n",
    "        return(a+b)\n",
    "    if operation == 'minus':\n",
    "        return(a-b)\n",
    "\n",
    "num1 = 8\n",
    "num2 = 12\n",
    "print(twonumbermath(num1,num2,operation='plus'))\n",
    "print(twonumbermath(num1,num2,operation='minus'))\n",
    "print(twonumbermath(num1,num2))\n",
    "      \n"
   ]
  },
  {
   "cell_type": "markdown",
   "metadata": {},
   "source": [
    "I've included one keyword arguement, using the keyword \"operation\". I can choose whatever keyword I want since I'm defining the function. When I call the function using the keyword, inside the function the variable `operation` takes on the value \n",
    "of whatever I assigned to it in the function call. But here, I've also set a default value of 'plus' in the function\n",
    "definition itself. If I don't include the keyword in the function call, the function still works and `operation` \n",
    "gets assigned a value of \"plus\"."
   ]
  }
 ],
 "metadata": {
  "kernelspec": {
   "display_name": "Python 3",
   "language": "python",
   "name": "python3"
  },
  "language_info": {
   "codemirror_mode": {
    "name": "ipython",
    "version": 3
   },
   "file_extension": ".py",
   "mimetype": "text/x-python",
   "name": "python",
   "nbconvert_exporter": "python",
   "pygments_lexer": "ipython3",
   "version": "3.7.5"
  }
 },
 "nbformat": 4,
 "nbformat_minor": 4
}
