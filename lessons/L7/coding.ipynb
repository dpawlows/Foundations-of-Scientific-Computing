{
 "cells": [
  {
   "cell_type": "markdown",
   "metadata": {},
   "source": [
    "Good coding practices: Namespacing\n",
    "==================================\n",
    "\n",
    "Way back in [Lesson 1](https://foundations-of-scientific-computing.readthedocs.io/en/latest/lessons/L1/first.html#Math-module) when we learned \n",
    "about the Math module, we were introduced to the concept of **namespacing**. At the time, I referred to this as \"dot notation\", which was using a function or other attribute of a module by including the decimal point after the name of the module. For example:"
   ]
  },
  {
   "cell_type": "code",
   "execution_count": 1,
   "metadata": {},
   "outputs": [
    {
     "name": "stdout",
     "output_type": "stream",
     "text": [
      "3.141592653589793\n"
     ]
    }
   ],
   "source": [
    "import math\n",
    "\n",
    "print(math.pi)"
   ]
  },
  {
   "cell_type": "markdown",
   "metadata": {},
   "source": [
    "if I were to simply try to print the variable pi, python would tell me that variable is undefined:"
   ]
  },
  {
   "cell_type": "code",
   "execution_count": 2,
   "metadata": {},
   "outputs": [
    {
     "ename": "NameError",
     "evalue": "name 'pi' is not defined",
     "output_type": "error",
     "traceback": [
      "\u001b[0;31m---------------------------------------------------------------------------\u001b[0m",
      "\u001b[0;31mNameError\u001b[0m                                 Traceback (most recent call last)",
      "\u001b[0;32m<ipython-input-2-9e2d2bd32686>\u001b[0m in \u001b[0;36m<module>\u001b[0;34m\u001b[0m\n\u001b[0;32m----> 1\u001b[0;31m \u001b[0mprint\u001b[0m\u001b[0;34m(\u001b[0m\u001b[0mpi\u001b[0m\u001b[0;34m)\u001b[0m\u001b[0;34m\u001b[0m\u001b[0;34m\u001b[0m\u001b[0m\n\u001b[0m",
      "\u001b[0;31mNameError\u001b[0m: name 'pi' is not defined"
     ]
    }
   ],
   "source": [
    "print(pi)"
   ]
  },
  {
   "cell_type": "markdown",
   "metadata": {},
   "source": [
    "In general, namespacing is the way that we avoid variables that would otherwise like to have the same names. As a program becomes more \n",
    "and more complex, the opportunity for duplicate variable or function names increases. This becomes an even larger problem when we start to \n",
    "use more and more modules. \n",
    "\n",
    "For example, let's say you wrote a piece of software in which you created your own plotting function. Naturally, you would call this function \"plot\":"
   ]
  },
  {
   "cell_type": "code",
   "execution_count": null,
   "metadata": {},
   "outputs": [],
   "source": [
    "def plot(y):\n",
    "    #plot a single list. This function only takes 1 argument.\n",
    "    #..."
   ]
  },
  {
   "cell_type": "markdown",
   "metadata": {},
   "source": [
    "Within your code, you would use the plot function"
   ]
  },
  {
   "cell_type": "code",
   "execution_count": null,
   "metadata": {},
   "outputs": [],
   "source": [
    "plot(myvariable)"
   ]
  },
  {
   "cell_type": "markdown",
   "metadata": {},
   "source": [
    "Sometime later, you give this code to your new employee. They don't notice that you have defined your own plot function and instead want to use \n",
    "the plot function that comes with pyplot. They do that like this:"
   ]
  },
  {
   "cell_type": "code",
   "execution_count": null,
   "metadata": {},
   "outputs": [],
   "source": [
    "from matplotlib.pyplot import plot\n",
    "\n",
    "#...\n",
    "\n",
    "plot(x,myvariable)"
   ]
  },
  {
   "cell_type": "markdown",
   "metadata": {},
   "source": [
    "With in the single program, there are two things that are called \"plot\". Which one will the code use?! Most likely, the plot() function that you defined yourself in the program was defined after the import from pyplot, which means that is the function that will be used, and thus this code wouldn't work (remember, your plot function is different. It only takes 1 argument).\n",
    "\n",
    "We avoid this problem by using namespacing. When your employee imported the plot function from pyplot they chose not to namespace it. Without knowing it, this variable name was, in a way, overwritten by the plot() definition buried in the program that he was working on. Instead, he should have used namespacing when doing the import.\n",
    "\n",
    "In python, we can import modules in a variety of ways. Let's import plot() using them:\n"
   ]
  },
  {
   "cell_type": "code",
   "execution_count": null,
   "metadata": {},
   "outputs": [],
   "source": [
    "from matplotlib.pyplot import plot"
   ]
  },
  {
   "cell_type": "markdown",
   "metadata": {},
   "source": [
    "This first method will only import the plot() function from the pyplot submodule of the matplotlib module. To use the function, we simply call plot()."
   ]
  },
  {
   "cell_type": "code",
   "execution_count": null,
   "metadata": {},
   "outputs": [],
   "source": [
    "from matplotlib import pyplot"
   ]
  },
  {
   "cell_type": "markdown",
   "metadata": {},
   "source": [
    "This method will import the entire pyplot submodule from the matplotlib module. To use the function, we call pyplot.plot(). In otherwords, we are namespacing the plot() function using pyplot. All other functions and attributes that are part of the pyplot submodule can be used in our program by also namespacing pyplot (e.g. pyplot.xlim(), pyplot.title(), etc.)"
   ]
  },
  {
   "cell_type": "code",
   "execution_count": null,
   "metadata": {},
   "outputs": [],
   "source": [
    "from matplotlib import pyplot as pp"
   ]
  },
  {
   "cell_type": "markdown",
   "metadata": {},
   "source": [
    "You have seen this one before! Import all of the pyplot submodule, but call it pp for short. To use the function, call pp.plot(). Note that \"pp\" is something that is defined by the person that is writing the code. You can use what ever word you want after the ``as``. E.g.:"
   ]
  },
  {
   "cell_type": "code",
   "execution_count": null,
   "metadata": {},
   "outputs": [],
   "source": [
    "from matplotlib import pyplot as plt"
   ]
  },
  {
   "cell_type": "markdown",
   "metadata": {},
   "source": [
    "which is what the pyplot docs prefer to use. Personally, I like pp."
   ]
  },
  {
   "cell_type": "code",
   "execution_count": null,
   "metadata": {},
   "outputs": [],
   "source": [
    "import matplotlib"
   ]
  },
  {
   "cell_type": "markdown",
   "metadata": {},
   "source": [
    "Import the entire matplotlib module. To use the function, call matplotlib.pyplot.plot(), which is a lot to type. matplotlib is a large module with many things contained in it, so in some sense, this is a waste since we will not be using the vast majority of the things contained in it.\n",
    "\n",
    "Lastly, one more example that I only present to tell you to avoid:"
   ]
  },
  {
   "cell_type": "code",
   "execution_count": null,
   "metadata": {},
   "outputs": [],
   "source": [
    "from matplotlib.pylot import *"
   ]
  },
  {
   "cell_type": "markdown",
   "metadata": {},
   "source": [
    "Import everything contained in the pyplot submodule, but don't namespace any of it. To use the function, we just use the function name: plot(). Again, you shouldn't ever do this. You probably don't know all of the things that will be imported and since they aren't being namespaced, it is very easy to overwrite existing variable names when using this technique.\n",
    "\n",
    "Give each of these methods a try and make sure you get the feel for the different ways that we can import modules, submodules, functions, etc. Nearly every python program that you write will involve importing external libraries so you want to make sure you understand the different ways to do it and also how to appropriately use namespacing."
   ]
  }
 ],
 "metadata": {
  "kernelspec": {
   "display_name": "Python 3",
   "language": "python",
   "name": "python3"
  },
  "language_info": {
   "codemirror_mode": {
    "name": "ipython",
    "version": 3
   },
   "file_extension": ".py",
   "mimetype": "text/x-python",
   "name": "python",
   "nbconvert_exporter": "python",
   "pygments_lexer": "ipython3",
   "version": "3.8.3"
  }
 },
 "nbformat": 4,
 "nbformat_minor": 4
}
