{
 "cells": [
  {
   "cell_type": "markdown",
   "metadata": {},
   "source": [
    "The numpy module\n",
    "================\n",
    "\n",
    "The numpy module is one of the most useful packages for doing math and physics \n",
    "in python. Numpy contains several tools including new data types, functions for \n",
    "doing common mathematical tasks, and tools for using special functions, series, \n",
    "and linear algebra. For us, the most important tool that numpy gives us is the \n",
    "array data type and we will spend this lesson working extensively with arrays and a few tools that allow us to create and manipulate them.\n",
    "\n",
    "Arrays\n",
    "------\n",
    "\n",
    "So far in this course, we've worked extensively with python lists. You should remember that lists are great because they are very generic- each element in a list can be any data type. This has many practical uses, however, making lists work in this way means they can't be used as easily to perform mathematical operations as \n",
    "might be otherwise possible. The numpy `array` datatype fixes this. Numpy arrays allow us to create N-dimentional variables so that we can do things like vector \n",
    "and matrix operations efficiently. For example:"
   ]
  },
  {
   "cell_type": "code",
   "execution_count": 1,
   "metadata": {},
   "outputs": [
    {
     "name": "stdout",
     "output_type": "stream",
     "text": [
      "[[4 5 6]\n",
      " [1 3 2]\n",
      " [9 1 7]\n",
      " [8 2 5]]\n"
     ]
    }
   ],
   "source": [
    "import numpy as np\n",
    "\n",
    "myarray = np.array([[4,5,6],[1,3,2],[9,1,7],[8,2,5]])\n",
    "print(myarray)"
   ]
  },
  {
   "cell_type": "markdown",
   "metadata": {},
   "source": [
    "Here I've created a 2D array (or matrix) that has 3 columns and 4 rows. I did this \n",
    "using numpy's `array()` function which takes an \"array like\" object as \n",
    "a required argument. Here, the array like object that I passed were a set of normal\n",
    "python lists. Once created, we can do things like index our array similarly to how we would index a list. Since, our array is 2D, we need 2 indices to select a single element:"
   ]
  },
  {
   "cell_type": "code",
   "execution_count": 2,
   "metadata": {},
   "outputs": [
    {
     "name": "stdout",
     "output_type": "stream",
     "text": [
      "1\n"
     ]
    }
   ],
   "source": [
    "print(myarray[2,1])"
   ]
  },
  {
   "cell_type": "markdown",
   "metadata": {},
   "source": [
    "Note that the first index corresponds to the row number and the second index corresponds to the column. I can also grab a slice of the array:"
   ]
  },
  {
   "cell_type": "code",
   "execution_count": 3,
   "metadata": {},
   "outputs": [
    {
     "name": "stdout",
     "output_type": "stream",
     "text": [
      "[5 3 1 2]\n",
      "[4 5]\n"
     ]
    }
   ],
   "source": [
    "print(myarray[:,1])\n",
    "print(myarray[0,0:2])"
   ]
  },
  {
   "cell_type": "markdown",
   "metadata": {},
   "source": [
    "The first example grabs all elements from the middle column. The second example grabs the first two elements from the 1st row.\n",
    "\n",
    "Arrays can have any number of dimensions. So, lets see what a 3D matrix looks like."
   ]
  },
  {
   "cell_type": "code",
   "execution_count": 4,
   "metadata": {},
   "outputs": [
    {
     "name": "stdout",
     "output_type": "stream",
     "text": [
      "[[[1 2]\n",
      "  [4 6]]\n",
      "\n",
      " [[3 6]\n",
      "  [9 5]]\n",
      "\n",
      " [[5 2]\n",
      "  [7 8]]]\n"
     ]
    }
   ],
   "source": [
    "threeDarray = np.array([[[1,2],[4,6]],[[3,6],[9,5]],[[5,2],[7,8]]])\n",
    "print(threeDarray)"
   ]
  },
  {
   "cell_type": "markdown",
   "metadata": {},
   "source": [
    "This might be a little hard to visualize- as you probably have a 2D monitor. But, I've created a 3x2x2 matrix here (you can tell by how I defined it. The first set of two lists are enclosed in their own set of square brackets. As are the second set of two lists and the 3rd set of two lists). Python is showing us 3 slices of our 3D matrix. Each slice is itself a 2D matrix. If you think of this data being in the shape of a cube, the top 2D matrix is the front \n",
    "face of the cube:"
   ]
  },
  {
   "cell_type": "code",
   "execution_count": 5,
   "metadata": {},
   "outputs": [
    {
     "name": "stdout",
     "output_type": "stream",
     "text": [
      "[[1 2]\n",
      " [4 6]]\n"
     ]
    }
   ],
   "source": [
    "print(threeDarray[0,:,:])"
   ]
  },
  {
   "cell_type": "markdown",
   "metadata": {},
   "source": [
    "Then we have the middle face:"
   ]
  },
  {
   "cell_type": "code",
   "execution_count": 6,
   "metadata": {},
   "outputs": [
    {
     "name": "stdout",
     "output_type": "stream",
     "text": [
      "[[3 6]\n",
      " [9 5]]\n"
     ]
    }
   ],
   "source": [
    "print(threeDarray[1,:,:])"
   ]
  },
  {
   "cell_type": "markdown",
   "metadata": {},
   "source": [
    "and finally the back face:"
   ]
  },
  {
   "cell_type": "code",
   "execution_count": 7,
   "metadata": {},
   "outputs": [
    {
     "name": "stdout",
     "output_type": "stream",
     "text": [
      "[[5 2]\n",
      " [7 8]]\n"
     ]
    }
   ],
   "source": [
    "print(threeDarray[2,:,:])"
   ]
  },
  {
   "cell_type": "markdown",
   "metadata": {},
   "source": [
    "Of course, I can slice in any dimension:"
   ]
  },
  {
   "cell_type": "code",
   "execution_count": 8,
   "metadata": {},
   "outputs": [
    {
     "name": "stdout",
     "output_type": "stream",
     "text": [
      "[[4 6]\n",
      " [9 5]\n",
      " [7 8]]\n",
      "\n",
      "[4 9 7]\n"
     ]
    }
   ],
   "source": [
    "print(threeDarray[:,1,:])\n",
    "print(\"\")\n",
    "print(threeDarray[:,1,0])"
   ]
  },
  {
   "cell_type": "markdown",
   "metadata": {},
   "source": [
    "Slicing once (top example, 1 index is specified) gives me an object with N-1 dimensions, where N is the number of dimensions of the array itself. Slicing twice (second example, 2 indices are specified) gives me an object with N-2 dimensions.\n",
    "\n",
    "Building arrays\n",
    "---------------\n",
    "\n",
    "You will probably never create an array in the way that I demonstrated above: by calling the `array()` function with actual numbers. Instead, you will more likely build arrays be filling them with the results of some mathematical operation, using variables, instead of hard coding as in those examples.\n",
    "In this course, we've made extensive use of the `append()` method of the list datatype to do this sort of thing. For example, we might calculate the trajectory of a baseball pitch by looping over some number of milliseconds and calculating the position of the ball during each time step. We would use the `append()` method to add an element to some position list and in that way build the list element by element as our code runs.\n",
    "\n",
    "Numpy arrays don't have access to this method so we can't append to them in the same way. For this reason, it is common to convert between list data types and arrays when working with data. However, this can get confusing when working \n",
    "with arrays that have 3 or more dimensions. So, a reasonable question is how do we \n",
    "create arrays if we aren't going to be able to hard code in the data that we are working with? If we can't append to an array, how can we add elements to the array if we don't know their values before the code runs? \n",
    "\n",
    "The answer is usually, before the main part of our code runs, we create an array of the appropriate size filled with placeholders. We don't have to append to the array because all of the elements exist. Instead, we just change the elements as our code runs. The `zeros()` function helps us do this by creating an array of a specific shape filled with, you guessed it, zeros."
   ]
  },
  {
   "cell_type": "code",
   "execution_count": 9,
   "metadata": {},
   "outputs": [
    {
     "name": "stdout",
     "output_type": "stream",
     "text": [
      "[[0. 0. 0.]\n",
      " [0. 0. 0.]\n",
      " [0. 0. 0.]\n",
      " [0. 0. 0.]\n",
      " [0. 0. 0.]]\n"
     ]
    }
   ],
   "source": [
    "newarray = np.zeros((5,3))\n",
    "print(newarray)"
   ]
  },
  {
   "cell_type": "markdown",
   "metadata": {},
   "source": [
    "Just like that I have a 5x3 array ready to be manipulated. Note the \n",
    "strange looking format of the `zeros()` function. The first argument \n",
    "of zeros is a tuple that contains the shape of the array to be created. That's why there are two parenthesis right next to each other. `array()` can take other arguments, so if that extra set of parens weren't there, the \"3\" would look like argument #2 instead of part of argument #1. \n",
    "\n",
    "Now that the array is created, I can loop through it and modify each value:"
   ]
  },
  {
   "cell_type": "code",
   "execution_count": 10,
   "metadata": {},
   "outputs": [
    {
     "name": "stdout",
     "output_type": "stream",
     "text": [
      "[[0. 1. 2.]\n",
      " [1. 2. 3.]\n",
      " [2. 3. 4.]\n",
      " [3. 4. 5.]\n",
      " [4. 5. 6.]]\n"
     ]
    }
   ],
   "source": [
    "for i in range(3):\n",
    "    for j in range(5):\n",
    "        newarray[j,i] = i+j\n",
    "        \n",
    "print(newarray)"
   ]
  },
  {
   "cell_type": "markdown",
   "metadata": {},
   "source": [
    "as one simple example. Normally, we'd be doing some physics or something here."
   ]
  },
  {
   "cell_type": "markdown",
   "metadata": {},
   "source": [
    "Copying arrays (and lists)\n",
    "--------------\n",
    "\n",
    "Making copies of a variable is a common task in programming. It is not unusual to see something like the following:"
   ]
  },
  {
   "cell_type": "code",
   "execution_count": 11,
   "metadata": {},
   "outputs": [
    {
     "name": "stdout",
     "output_type": "stream",
     "text": [
      "listb:  [5, 6, 2]\n",
      "listb:  [8, 6, 2]\n",
      "lista:  [8, 6, 2]\n"
     ]
    }
   ],
   "source": [
    "lista = [5,6,2]\n",
    "listb = lista\n",
    "print(\"listb: \",listb)\n",
    "listb[0] = listb[0]+3\n",
    "print(\"listb: \",listb)\n",
    "print(\"lista: \",lista)"
   ]
  },
  {
   "cell_type": "markdown",
   "metadata": {},
   "source": [
    "That should seem weird to you. We made `lista` and then made a copy and called it `listb`. Then, we changed one element of `listb` and found that `lista` had also been changed! In python, copying something in this way makes a real copy. If you make a change to the copy, the original also gets changed. Numpy arrays work the same:"
   ]
  },
  {
   "cell_type": "code",
   "execution_count": 12,
   "metadata": {},
   "outputs": [
    {
     "name": "stdout",
     "output_type": "stream",
     "text": [
      "[10  2]\n"
     ]
    }
   ],
   "source": [
    "arraya = np.array([4,2])\n",
    "arrayb = arraya \n",
    "arrayb[0] = 10\n",
    "print(arraya)"
   ]
  },
  {
   "cell_type": "markdown",
   "metadata": {},
   "source": [
    "Again, I made `arrayb` by coping `arraya`. Then, when I change `arrayb`, `arraya` is automatically changed as a result. What if we don't want this behavior? Instead, if we make a copy, then modify the copy, can the original stays the same? Sure! Both lists and arrays have access to the `copy()` method!"
   ]
  },
  {
   "cell_type": "code",
   "execution_count": 13,
   "metadata": {},
   "outputs": [
    {
     "name": "stdout",
     "output_type": "stream",
     "text": [
      "[10  2]\n",
      "[10  2]\n",
      "[100   2]\n",
      "[10  2]\n"
     ]
    }
   ],
   "source": [
    "arrayc = arraya.copy()\n",
    "print(arrayc)\n",
    "print(arraya)\n",
    "arrayc[0] = 100\n",
    "print(arrayc)\n",
    "print(arraya)"
   ]
  },
  {
   "cell_type": "markdown",
   "metadata": {},
   "source": [
    "Now when we change the copy (`arrayc`) the original stays the same.\n",
    "\n",
    "Array shape\n",
    "-----------\n",
    "\n",
    "If we are working with arrays, one of the pieces of information that we need access to is its shape. In other words, how many dimensions does an array have and \n",
    "how many elements in each dimension. We can get that information quickly using the `shape` attribute."
   ]
  },
  {
   "cell_type": "code",
   "execution_count": 14,
   "metadata": {},
   "outputs": [
    {
     "name": "stdout",
     "output_type": "stream",
     "text": [
      "(5, 3)\n"
     ]
    }
   ],
   "source": [
    "print(newarray.shape)"
   ]
  },
  {
   "cell_type": "markdown",
   "metadata": {},
   "source": [
    "Note that `shape` isn't a method, it's an attribute of the array object, so we don't use parens. Anyway, the attribute tells us that our array is 2D and is 5x3. Shape also works on slices:"
   ]
  },
  {
   "cell_type": "code",
   "execution_count": 15,
   "metadata": {},
   "outputs": [
    {
     "name": "stdout",
     "output_type": "stream",
     "text": [
      "(3, 2, 2)\n",
      "(3, 2)\n"
     ]
    }
   ],
   "source": [
    "print(threeDarray.shape)\n",
    "print(threeDarray[:,1,:].shape)"
   ]
  }
 ],
 "metadata": {
  "kernelspec": {
   "display_name": "Python 3",
   "language": "python",
   "name": "python3"
  },
  "language_info": {
   "codemirror_mode": {
    "name": "ipython",
    "version": 3
   },
   "file_extension": ".py",
   "mimetype": "text/x-python",
   "name": "python",
   "nbconvert_exporter": "python",
   "pygments_lexer": "ipython3",
   "version": "3.7.5"
  }
 },
 "nbformat": 4,
 "nbformat_minor": 4
}
