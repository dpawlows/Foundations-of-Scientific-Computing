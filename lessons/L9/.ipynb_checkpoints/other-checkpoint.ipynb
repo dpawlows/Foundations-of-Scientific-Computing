{
 "cells": [
  {
   "cell_type": "markdown",
   "metadata": {},
   "source": [
    "Other plot types\n",
    "================\n",
    "\n",
    "In our previous lessons, we've covered plots types that are often used \n",
    "in physics to present data. You should now have a general understanding \n",
    "of how to create figures using matplotlib and that should make it relatively \n",
    "easy to understand how to branch out and make other types of figures. Let's \n",
    "take a look at some other plot types that are commonly used in physics.\n",
    "\n",
    "Scatter plot\n",
    "------------\n",
    "\n",
    "Scatter plots are useful when we want to highlight a correlation between two variables in a dataset. Scatter plots are used differently than line plots, where our function tends \n",
    "to be single valued for all values of the independent variable. Instead, scatter can be used when two variables are independent. As an example, suppose we wanted to see if there was a relationship between the number of days of ice at a particular station on Lake Superior and the mean winter temperature for that season:"
   ]
  },
  {
   "cell_type": "code",
   "execution_count": null,
   "metadata": {},
   "outputs": [],
   "source": [
    "from matplotlib import pyplot\n",
    "\n",
    "meanTemp = [22.94\t23.02\t25.68\t19.96\t24.8\t23.98\t22.1\t20.3\t24.2\t22.74\t24.16\t24.94\t22.4\t22.14\t20.84\t25.66\t21.73\t24.49\t24.13\t22.17\t21.73\t20.41\t24.41\t23.95\t20.95\t26.71\t22.81\t23.11\t23.33\t28.83\t23.11\t21.47\t23.97\t24.75\t23.61\t23.08\t21.24\t26.63\t23.88]\n"
   ]
  }
 ],
 "metadata": {
  "kernelspec": {
   "display_name": "Python 3",
   "language": "python",
   "name": "python3"
  },
  "language_info": {
   "codemirror_mode": {
    "name": "ipython",
    "version": 3
   },
   "file_extension": ".py",
   "mimetype": "text/x-python",
   "name": "python",
   "nbconvert_exporter": "python",
   "pygments_lexer": "ipython3",
   "version": "3.7.5"
  }
 },
 "nbformat": 4,
 "nbformat_minor": 4
}
